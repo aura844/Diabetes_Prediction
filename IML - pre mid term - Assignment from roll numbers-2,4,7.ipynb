{
 "cells": [
  {
   "cell_type": "markdown",
   "id": "2f76e1d6",
   "metadata": {},
   "source": [
    "# Loan Sanction Amount"
   ]
  },
  {
   "cell_type": "markdown",
   "id": "ef211d1b",
   "metadata": {},
   "source": [
    "For buying a house, one has to do a lot of planning.Once you have finalized your budget and the house that you want to buy, you must ensure that you have sufficient funds to pay the seller.Once finalised,most of us depend on home loans to buy our dream home.The bank only lends up to 80% of the total amount based on a person's finances. Rest of the money has to be made by themselves."
   ]
  },
  {
   "cell_type": "markdown",
   "id": "7c558a01",
   "metadata": {},
   "source": [
    "Here we are analysing the dataset of XYZ bank. This includes\n",
    "1.cleaning the data by replacing all null values and errors\n",
    "2.using bivariate analysis, showing up the relationship one independent has on our dependent variable"
   ]
  },
  {
   "cell_type": "markdown",
   "id": "f268c786",
   "metadata": {},
   "source": [
    "### 1. reading the data"
   ]
  },
  {
   "cell_type": "code",
   "execution_count": 67,
   "id": "407942c5",
   "metadata": {},
   "outputs": [],
   "source": [
    "import pandas as pd #import packages\n",
    "import numpy as np"
   ]
  },
  {
   "cell_type": "code",
   "execution_count": 121,
   "id": "871462ac",
   "metadata": {},
   "outputs": [],
   "source": [
    "df=pd.read_excel('loan_train.xlsx') #read the data"
   ]
  },
  {
   "cell_type": "code",
   "execution_count": 69,
   "id": "7cce0a18",
   "metadata": {},
   "outputs": [
    {
     "data": {
      "text/html": [
       "<div>\n",
       "<style scoped>\n",
       "    .dataframe tbody tr th:only-of-type {\n",
       "        vertical-align: middle;\n",
       "    }\n",
       "\n",
       "    .dataframe tbody tr th {\n",
       "        vertical-align: top;\n",
       "    }\n",
       "\n",
       "    .dataframe thead th {\n",
       "        text-align: right;\n",
       "    }\n",
       "</style>\n",
       "<table border=\"1\" class=\"dataframe\">\n",
       "  <thead>\n",
       "    <tr style=\"text-align: right;\">\n",
       "      <th></th>\n",
       "      <th>Customer ID</th>\n",
       "      <th>Name</th>\n",
       "      <th>Gender</th>\n",
       "      <th>Age</th>\n",
       "      <th>Income (USD)</th>\n",
       "      <th>Income Stability</th>\n",
       "      <th>Profession</th>\n",
       "      <th>Type of Employment</th>\n",
       "      <th>Location</th>\n",
       "      <th>Loan Amount Request (USD)</th>\n",
       "      <th>...</th>\n",
       "      <th>Credit Score</th>\n",
       "      <th>No. of Defaults</th>\n",
       "      <th>Has Active Credit Card</th>\n",
       "      <th>Property ID</th>\n",
       "      <th>Property Age</th>\n",
       "      <th>Property Type</th>\n",
       "      <th>Property Location</th>\n",
       "      <th>Co-Applicant</th>\n",
       "      <th>Property Price</th>\n",
       "      <th>Loan Sanction Amount (USD)</th>\n",
       "    </tr>\n",
       "  </thead>\n",
       "  <tbody>\n",
       "    <tr>\n",
       "      <th>0</th>\n",
       "      <td>C-36995</td>\n",
       "      <td>Frederica Shealy</td>\n",
       "      <td>F</td>\n",
       "      <td>56</td>\n",
       "      <td>1933.05</td>\n",
       "      <td>Low</td>\n",
       "      <td>Working</td>\n",
       "      <td>Sales staff</td>\n",
       "      <td>Semi-Urban</td>\n",
       "      <td>72809.58</td>\n",
       "      <td>...</td>\n",
       "      <td>809.44</td>\n",
       "      <td>0</td>\n",
       "      <td>NaN</td>\n",
       "      <td>746</td>\n",
       "      <td>1933.05</td>\n",
       "      <td>4</td>\n",
       "      <td>Rural</td>\n",
       "      <td>1</td>\n",
       "      <td>119933.46</td>\n",
       "      <td>54607.18</td>\n",
       "    </tr>\n",
       "    <tr>\n",
       "      <th>1</th>\n",
       "      <td>C-33999</td>\n",
       "      <td>America Calderone</td>\n",
       "      <td>M</td>\n",
       "      <td>32</td>\n",
       "      <td>4952.91</td>\n",
       "      <td>Low</td>\n",
       "      <td>Working</td>\n",
       "      <td>NaN</td>\n",
       "      <td>Semi-Urban</td>\n",
       "      <td>46837.47</td>\n",
       "      <td>...</td>\n",
       "      <td>780.40</td>\n",
       "      <td>0</td>\n",
       "      <td>Unpossessed</td>\n",
       "      <td>608</td>\n",
       "      <td>4952.91</td>\n",
       "      <td>2</td>\n",
       "      <td>Rural</td>\n",
       "      <td>1</td>\n",
       "      <td>54791.00</td>\n",
       "      <td>37469.98</td>\n",
       "    </tr>\n",
       "    <tr>\n",
       "      <th>2</th>\n",
       "      <td>C-3770</td>\n",
       "      <td>Rosetta Verne</td>\n",
       "      <td>F</td>\n",
       "      <td>65</td>\n",
       "      <td>988.19</td>\n",
       "      <td>High</td>\n",
       "      <td>Pensioner</td>\n",
       "      <td>NaN</td>\n",
       "      <td>Semi-Urban</td>\n",
       "      <td>45593.04</td>\n",
       "      <td>...</td>\n",
       "      <td>833.15</td>\n",
       "      <td>0</td>\n",
       "      <td>Unpossessed</td>\n",
       "      <td>546</td>\n",
       "      <td>988.19</td>\n",
       "      <td>2</td>\n",
       "      <td>Urban</td>\n",
       "      <td>0</td>\n",
       "      <td>72440.58</td>\n",
       "      <td>36474.43</td>\n",
       "    </tr>\n",
       "    <tr>\n",
       "      <th>3</th>\n",
       "      <td>C-26480</td>\n",
       "      <td>Zoe Chitty</td>\n",
       "      <td>F</td>\n",
       "      <td>65</td>\n",
       "      <td>NaN</td>\n",
       "      <td>High</td>\n",
       "      <td>Pensioner</td>\n",
       "      <td>NaN</td>\n",
       "      <td>Rural</td>\n",
       "      <td>80057.92</td>\n",
       "      <td>...</td>\n",
       "      <td>832.70</td>\n",
       "      <td>1</td>\n",
       "      <td>Unpossessed</td>\n",
       "      <td>890</td>\n",
       "      <td>NaN</td>\n",
       "      <td>2</td>\n",
       "      <td>Semi-Urban</td>\n",
       "      <td>1</td>\n",
       "      <td>121441.51</td>\n",
       "      <td>56040.54</td>\n",
       "    </tr>\n",
       "    <tr>\n",
       "      <th>4</th>\n",
       "      <td>C-23459</td>\n",
       "      <td>Afton Venema</td>\n",
       "      <td>F</td>\n",
       "      <td>31</td>\n",
       "      <td>2614.77</td>\n",
       "      <td>Low</td>\n",
       "      <td>Working</td>\n",
       "      <td>High skill tech staff</td>\n",
       "      <td>Semi-Urban</td>\n",
       "      <td>113858.89</td>\n",
       "      <td>...</td>\n",
       "      <td>745.55</td>\n",
       "      <td>1</td>\n",
       "      <td>Active</td>\n",
       "      <td>715</td>\n",
       "      <td>2614.77</td>\n",
       "      <td>4</td>\n",
       "      <td>Semi-Urban</td>\n",
       "      <td>1</td>\n",
       "      <td>208567.91</td>\n",
       "      <td>74008.28</td>\n",
       "    </tr>\n",
       "  </tbody>\n",
       "</table>\n",
       "<p>5 rows × 24 columns</p>\n",
       "</div>"
      ],
      "text/plain": [
       "  Customer ID               Name Gender  Age  Income (USD) Income Stability  \\\n",
       "0     C-36995   Frederica Shealy      F   56       1933.05              Low   \n",
       "1     C-33999  America Calderone      M   32       4952.91              Low   \n",
       "2      C-3770      Rosetta Verne      F   65        988.19             High   \n",
       "3     C-26480         Zoe Chitty      F   65           NaN             High   \n",
       "4     C-23459       Afton Venema      F   31       2614.77              Low   \n",
       "\n",
       "  Profession     Type of Employment    Location  Loan Amount Request (USD)  \\\n",
       "0    Working            Sales staff  Semi-Urban                   72809.58   \n",
       "1    Working                    NaN  Semi-Urban                   46837.47   \n",
       "2  Pensioner                    NaN  Semi-Urban                   45593.04   \n",
       "3  Pensioner                    NaN       Rural                   80057.92   \n",
       "4    Working  High skill tech staff  Semi-Urban                  113858.89   \n",
       "\n",
       "   ...  Credit Score No. of Defaults Has Active Credit Card  Property ID  \\\n",
       "0  ...        809.44               0                    NaN          746   \n",
       "1  ...        780.40               0            Unpossessed          608   \n",
       "2  ...        833.15               0            Unpossessed          546   \n",
       "3  ...        832.70               1            Unpossessed          890   \n",
       "4  ...        745.55               1                 Active          715   \n",
       "\n",
       "   Property Age  Property Type Property Location  Co-Applicant  \\\n",
       "0       1933.05              4             Rural             1   \n",
       "1       4952.91              2             Rural             1   \n",
       "2        988.19              2             Urban             0   \n",
       "3           NaN              2        Semi-Urban             1   \n",
       "4       2614.77              4        Semi-Urban             1   \n",
       "\n",
       "   Property Price  Loan Sanction Amount (USD)  \n",
       "0       119933.46                    54607.18  \n",
       "1        54791.00                    37469.98  \n",
       "2        72440.58                    36474.43  \n",
       "3       121441.51                    56040.54  \n",
       "4       208567.91                    74008.28  \n",
       "\n",
       "[5 rows x 24 columns]"
      ]
     },
     "execution_count": 69,
     "metadata": {},
     "output_type": "execute_result"
    }
   ],
   "source": [
    "df.head() "
   ]
  },
  {
   "cell_type": "code",
   "execution_count": 72,
   "id": "32ac2865",
   "metadata": {},
   "outputs": [
    {
     "data": {
      "text/plain": [
       "(30000, 24)"
      ]
     },
     "execution_count": 72,
     "metadata": {},
     "output_type": "execute_result"
    }
   ],
   "source": [
    "df.shape"
   ]
  },
  {
   "cell_type": "code",
   "execution_count": 73,
   "id": "ea43c292",
   "metadata": {},
   "outputs": [
    {
     "data": {
      "text/plain": [
       "Customer ID                       0\n",
       "Name                              0\n",
       "Gender                           53\n",
       "Age                               0\n",
       "Income (USD)                   4576\n",
       "Income Stability               1683\n",
       "Profession                        0\n",
       "Type of Employment             7270\n",
       "Location                          0\n",
       "Loan Amount Request (USD)         0\n",
       "Current Loan Expenses (USD)     172\n",
       "Expense Type 1                    0\n",
       "Expense Type 2                    0\n",
       "Dependents                     2493\n",
       "Credit Score                   1703\n",
       "No. of Defaults                   0\n",
       "Has Active Credit Card         1566\n",
       "Property ID                       0\n",
       "Property Age                   4850\n",
       "Property Type                     0\n",
       "Property Location               356\n",
       "Co-Applicant                      0\n",
       "Property Price                    0\n",
       "Loan Sanction Amount (USD)      340\n",
       "dtype: int64"
      ]
     },
     "execution_count": 73,
     "metadata": {},
     "output_type": "execute_result"
    }
   ],
   "source": [
    "df.isna().sum()"
   ]
  },
  {
   "cell_type": "markdown",
   "id": "b502e36c",
   "metadata": {},
   "source": [
    "### 2.Variable Type"
   ]
  },
  {
   "cell_type": "markdown",
   "id": "2b5ef14a",
   "metadata": {},
   "source": [
    "the dataset consist of 30,000 rows and 24 columns."
   ]
  },
  {
   "cell_type": "code",
   "execution_count": 74,
   "id": "7720ab6a",
   "metadata": {},
   "outputs": [
    {
     "name": "stdout",
     "output_type": "stream",
     "text": [
      "<class 'pandas.core.frame.DataFrame'>\n",
      "RangeIndex: 30000 entries, 0 to 29999\n",
      "Data columns (total 24 columns):\n",
      " #   Column                       Non-Null Count  Dtype  \n",
      "---  ------                       --------------  -----  \n",
      " 0   Customer ID                  30000 non-null  object \n",
      " 1   Name                         30000 non-null  object \n",
      " 2   Gender                       29947 non-null  object \n",
      " 3   Age                          30000 non-null  int64  \n",
      " 4   Income (USD)                 25424 non-null  float64\n",
      " 5   Income Stability             28317 non-null  object \n",
      " 6   Profession                   30000 non-null  object \n",
      " 7   Type of Employment           22730 non-null  object \n",
      " 8   Location                     30000 non-null  object \n",
      " 9   Loan Amount Request (USD)    30000 non-null  float64\n",
      " 10  Current Loan Expenses (USD)  29828 non-null  float64\n",
      " 11  Expense Type 1               30000 non-null  object \n",
      " 12  Expense Type 2               30000 non-null  object \n",
      " 13  Dependents                   27507 non-null  float64\n",
      " 14  Credit Score                 28297 non-null  float64\n",
      " 15  No. of Defaults              30000 non-null  int64  \n",
      " 16  Has Active Credit Card       28434 non-null  object \n",
      " 17  Property ID                  30000 non-null  int64  \n",
      " 18  Property Age                 25150 non-null  float64\n",
      " 19  Property Type                30000 non-null  int64  \n",
      " 20  Property Location            29644 non-null  object \n",
      " 21  Co-Applicant                 30000 non-null  int64  \n",
      " 22  Property Price               30000 non-null  float64\n",
      " 23  Loan Sanction Amount (USD)   29660 non-null  float64\n",
      "dtypes: float64(8), int64(5), object(11)\n",
      "memory usage: 5.5+ MB\n"
     ]
    }
   ],
   "source": [
    "df.info()"
   ]
  },
  {
   "cell_type": "markdown",
   "id": "7b7360cd",
   "metadata": {},
   "source": [
    "some features like gender,income,type of employement etc consist of null values"
   ]
  },
  {
   "cell_type": "code",
   "execution_count": 75,
   "id": "91c04e49",
   "metadata": {},
   "outputs": [
    {
     "data": {
      "text/plain": [
       "Customer ID                     object\n",
       "Name                            object\n",
       "Gender                          object\n",
       "Age                              int64\n",
       "Income (USD)                   float64\n",
       "Income Stability                object\n",
       "Profession                      object\n",
       "Type of Employment              object\n",
       "Location                        object\n",
       "Loan Amount Request (USD)      float64\n",
       "Current Loan Expenses (USD)    float64\n",
       "Expense Type 1                  object\n",
       "Expense Type 2                  object\n",
       "Dependents                     float64\n",
       "Credit Score                   float64\n",
       "No. of Defaults                  int64\n",
       "Has Active Credit Card          object\n",
       "Property ID                      int64\n",
       "Property Age                   float64\n",
       "Property Type                    int64\n",
       "Property Location               object\n",
       "Co-Applicant                     int64\n",
       "Property Price                 float64\n",
       "Loan Sanction Amount (USD)     float64\n",
       "dtype: object"
      ]
     },
     "execution_count": 75,
     "metadata": {},
     "output_type": "execute_result"
    }
   ],
   "source": [
    "df.dtypes"
   ]
  },
  {
   "cell_type": "code",
   "execution_count": 76,
   "id": "b7faffbe",
   "metadata": {},
   "outputs": [
    {
     "data": {
      "text/plain": [
       "Customer ID                     0.000000\n",
       "Name                            0.000000\n",
       "Gender                          0.176667\n",
       "Age                             0.000000\n",
       "Income (USD)                   15.253333\n",
       "Income Stability                5.610000\n",
       "Profession                      0.000000\n",
       "Type of Employment             24.233333\n",
       "Location                        0.000000\n",
       "Loan Amount Request (USD)       0.000000\n",
       "Current Loan Expenses (USD)     0.573333\n",
       "Expense Type 1                  0.000000\n",
       "Expense Type 2                  0.000000\n",
       "Dependents                      8.310000\n",
       "Credit Score                    5.676667\n",
       "No. of Defaults                 0.000000\n",
       "Has Active Credit Card          5.220000\n",
       "Property ID                     0.000000\n",
       "Property Age                   16.166667\n",
       "Property Type                   0.000000\n",
       "Property Location               1.186667\n",
       "Co-Applicant                    0.000000\n",
       "Property Price                  0.000000\n",
       "Loan Sanction Amount (USD)      1.133333\n",
       "dtype: float64"
      ]
     },
     "execution_count": 76,
     "metadata": {},
     "output_type": "execute_result"
    }
   ],
   "source": [
    "#Null value as percentage \n",
    "perc=(df.isna().sum()/df.shape[0])*100\n",
    "perc"
   ]
  },
  {
   "cell_type": "code",
   "execution_count": 77,
   "id": "5d555b4b",
   "metadata": {},
   "outputs": [],
   "source": [
    "#dropping variables which are not relevant\n",
    "df.drop(['Customer ID','Name','Property ID'],axis=1,inplace=True)"
   ]
  },
  {
   "cell_type": "markdown",
   "id": "616bdcad",
   "metadata": {},
   "source": [
    "### 3.Measures of Central Tendency"
   ]
  },
  {
   "cell_type": "markdown",
   "id": "f1b07a96",
   "metadata": {},
   "source": [
    "3.1 Mean"
   ]
  },
  {
   "cell_type": "code",
   "execution_count": 78,
   "id": "4f886f89",
   "metadata": {},
   "outputs": [
    {
     "name": "stdout",
     "output_type": "stream",
     "text": [
      "the mean of the loan sanction amount data is:  Age                                40.092300\n",
      "Income (USD)                     2630.574417\n",
      "Loan Amount Request (USD)       88826.333855\n",
      "Current Loan Expenses (USD)       400.936876\n",
      "Dependents                          2.253027\n",
      "Credit Score                      739.885381\n",
      "No. of Defaults                     0.193933\n",
      "Property Age                     2631.119440\n",
      "Property Type                       2.460067\n",
      "Co-Applicant                       -4.743867\n",
      "Property Price                 131759.680252\n",
      "Loan Sanction Amount (USD)      47649.342208\n",
      "dtype: float64\n"
     ]
    },
    {
     "name": "stderr",
     "output_type": "stream",
     "text": [
      "C:\\Users\\User\\AppData\\Local\\Temp\\ipykernel_17460\\1810960270.py:1: FutureWarning: Dropping of nuisance columns in DataFrame reductions (with 'numeric_only=None') is deprecated; in a future version this will raise TypeError.  Select only valid columns before calling the reduction.\n",
      "  print(\"the mean of the loan sanction amount data is: \",df.mean())\n"
     ]
    }
   ],
   "source": [
    "print(\"the mean of the loan sanction amount data is: \",df.mean())"
   ]
  },
  {
   "cell_type": "markdown",
   "id": "40739db8",
   "metadata": {},
   "source": [
    "We can see that for a person earning an average income of 2630 a loan amount of average 47649 was sanctioned. The loan amount request is at an average of 88826 which is way higher than amount sanctioned.The average for co applicant is negative which means some negative value is present within the column.And we can also understand that for a property at an average amount of 131759 loan of average 47649(which is lesser than 50%) will be provided by bank."
   ]
  },
  {
   "cell_type": "markdown",
   "id": "d4f19856",
   "metadata": {},
   "source": [
    "3.2 Median"
   ]
  },
  {
   "cell_type": "code",
   "execution_count": 79,
   "id": "b855a439",
   "metadata": {},
   "outputs": [
    {
     "name": "stdout",
     "output_type": "stream",
     "text": [
      "the median for values are: Age                                40.000\n",
      "Income (USD)                     2222.435\n",
      "Loan Amount Request (USD)       75128.075\n",
      "Current Loan Expenses (USD)       375.205\n",
      "Dependents                          2.000\n",
      "Credit Score                      739.820\n",
      "No. of Defaults                     0.000\n",
      "Property Age                     2223.250\n",
      "Property Type                       2.000\n",
      "Co-Applicant                        1.000\n",
      "Property Price                 109993.610\n",
      "Loan Sanction Amount (USD)      35209.395\n",
      "dtype: float64\n"
     ]
    },
    {
     "name": "stderr",
     "output_type": "stream",
     "text": [
      "C:\\Users\\User\\AppData\\Local\\Temp\\ipykernel_17460\\2739548470.py:1: FutureWarning: Dropping of nuisance columns in DataFrame reductions (with 'numeric_only=None') is deprecated; in a future version this will raise TypeError.  Select only valid columns before calling the reduction.\n",
      "  print(\"the median for values are:\",df.median())\n"
     ]
    }
   ],
   "source": [
    "print(\"the median for values are:\",df.median())"
   ]
  },
  {
   "cell_type": "markdown",
   "id": "5e7c3ff0",
   "metadata": {},
   "source": [
    "Loan amount request is 75128 which means 50% has asked below it and 50% above it in which 35209(50% of applied) has been sanctioned."
   ]
  },
  {
   "cell_type": "markdown",
   "id": "531fdd10",
   "metadata": {},
   "source": [
    "3.3 Mode"
   ]
  },
  {
   "cell_type": "code",
   "execution_count": 80,
   "id": "2f27682b",
   "metadata": {},
   "outputs": [
    {
     "data": {
      "text/html": [
       "<div>\n",
       "<style scoped>\n",
       "    .dataframe tbody tr th:only-of-type {\n",
       "        vertical-align: middle;\n",
       "    }\n",
       "\n",
       "    .dataframe tbody tr th {\n",
       "        vertical-align: top;\n",
       "    }\n",
       "\n",
       "    .dataframe thead th {\n",
       "        text-align: right;\n",
       "    }\n",
       "</style>\n",
       "<table border=\"1\" class=\"dataframe\">\n",
       "  <thead>\n",
       "    <tr style=\"text-align: right;\">\n",
       "      <th></th>\n",
       "      <th>Gender</th>\n",
       "      <th>Income Stability</th>\n",
       "      <th>Profession</th>\n",
       "      <th>Type of Employment</th>\n",
       "      <th>Location</th>\n",
       "      <th>Expense Type 1</th>\n",
       "      <th>Expense Type 2</th>\n",
       "      <th>Has Active Credit Card</th>\n",
       "      <th>Property Location</th>\n",
       "    </tr>\n",
       "  </thead>\n",
       "  <tbody>\n",
       "    <tr>\n",
       "      <th>0</th>\n",
       "      <td>F</td>\n",
       "      <td>Low</td>\n",
       "      <td>Working</td>\n",
       "      <td>Sales staff</td>\n",
       "      <td>Semi-Urban</td>\n",
       "      <td>N</td>\n",
       "      <td>N</td>\n",
       "      <td>NaN</td>\n",
       "      <td>Rural</td>\n",
       "    </tr>\n",
       "    <tr>\n",
       "      <th>1</th>\n",
       "      <td>M</td>\n",
       "      <td>Low</td>\n",
       "      <td>Working</td>\n",
       "      <td>NaN</td>\n",
       "      <td>Semi-Urban</td>\n",
       "      <td>N</td>\n",
       "      <td>Y</td>\n",
       "      <td>Unpossessed</td>\n",
       "      <td>Rural</td>\n",
       "    </tr>\n",
       "    <tr>\n",
       "      <th>2</th>\n",
       "      <td>F</td>\n",
       "      <td>High</td>\n",
       "      <td>Pensioner</td>\n",
       "      <td>NaN</td>\n",
       "      <td>Semi-Urban</td>\n",
       "      <td>N</td>\n",
       "      <td>Y</td>\n",
       "      <td>Unpossessed</td>\n",
       "      <td>Urban</td>\n",
       "    </tr>\n",
       "    <tr>\n",
       "      <th>3</th>\n",
       "      <td>F</td>\n",
       "      <td>High</td>\n",
       "      <td>Pensioner</td>\n",
       "      <td>NaN</td>\n",
       "      <td>Rural</td>\n",
       "      <td>N</td>\n",
       "      <td>Y</td>\n",
       "      <td>Unpossessed</td>\n",
       "      <td>Semi-Urban</td>\n",
       "    </tr>\n",
       "    <tr>\n",
       "      <th>4</th>\n",
       "      <td>F</td>\n",
       "      <td>Low</td>\n",
       "      <td>Working</td>\n",
       "      <td>High skill tech staff</td>\n",
       "      <td>Semi-Urban</td>\n",
       "      <td>N</td>\n",
       "      <td>Y</td>\n",
       "      <td>Active</td>\n",
       "      <td>Semi-Urban</td>\n",
       "    </tr>\n",
       "  </tbody>\n",
       "</table>\n",
       "</div>"
      ],
      "text/plain": [
       "  Gender Income Stability Profession     Type of Employment    Location  \\\n",
       "0      F              Low    Working            Sales staff  Semi-Urban   \n",
       "1      M              Low    Working                    NaN  Semi-Urban   \n",
       "2      F             High  Pensioner                    NaN  Semi-Urban   \n",
       "3      F             High  Pensioner                    NaN       Rural   \n",
       "4      F              Low    Working  High skill tech staff  Semi-Urban   \n",
       "\n",
       "  Expense Type 1 Expense Type 2 Has Active Credit Card Property Location  \n",
       "0              N              N                    NaN             Rural  \n",
       "1              N              Y            Unpossessed             Rural  \n",
       "2              N              Y            Unpossessed             Urban  \n",
       "3              N              Y            Unpossessed        Semi-Urban  \n",
       "4              N              Y                 Active        Semi-Urban  "
      ]
     },
     "execution_count": 80,
     "metadata": {},
     "output_type": "execute_result"
    }
   ],
   "source": [
    "df_cat=df.select_dtypes(include='object')\n",
    "df_cat.head()"
   ]
  },
  {
   "cell_type": "code",
   "execution_count": 81,
   "id": "42a36d3c",
   "metadata": {},
   "outputs": [
    {
     "data": {
      "text/html": [
       "<div>\n",
       "<style scoped>\n",
       "    .dataframe tbody tr th:only-of-type {\n",
       "        vertical-align: middle;\n",
       "    }\n",
       "\n",
       "    .dataframe tbody tr th {\n",
       "        vertical-align: top;\n",
       "    }\n",
       "\n",
       "    .dataframe thead th {\n",
       "        text-align: right;\n",
       "    }\n",
       "</style>\n",
       "<table border=\"1\" class=\"dataframe\">\n",
       "  <thead>\n",
       "    <tr style=\"text-align: right;\">\n",
       "      <th></th>\n",
       "      <th>Gender</th>\n",
       "      <th>Income Stability</th>\n",
       "      <th>Profession</th>\n",
       "      <th>Type of Employment</th>\n",
       "      <th>Location</th>\n",
       "      <th>Expense Type 1</th>\n",
       "      <th>Expense Type 2</th>\n",
       "      <th>Has Active Credit Card</th>\n",
       "      <th>Property Location</th>\n",
       "    </tr>\n",
       "  </thead>\n",
       "  <tbody>\n",
       "    <tr>\n",
       "      <th>0</th>\n",
       "      <td>M</td>\n",
       "      <td>Low</td>\n",
       "      <td>Working</td>\n",
       "      <td>Laborers</td>\n",
       "      <td>Semi-Urban</td>\n",
       "      <td>N</td>\n",
       "      <td>Y</td>\n",
       "      <td>Active</td>\n",
       "      <td>Semi-Urban</td>\n",
       "    </tr>\n",
       "  </tbody>\n",
       "</table>\n",
       "</div>"
      ],
      "text/plain": [
       "  Gender Income Stability Profession Type of Employment    Location  \\\n",
       "0      M              Low    Working           Laborers  Semi-Urban   \n",
       "\n",
       "  Expense Type 1 Expense Type 2 Has Active Credit Card Property Location  \n",
       "0              N              Y                 Active        Semi-Urban  "
      ]
     },
     "execution_count": 81,
     "metadata": {},
     "output_type": "execute_result"
    }
   ],
   "source": [
    "df_cat.mode()"
   ]
  },
  {
   "cell_type": "markdown",
   "id": "c223820d",
   "metadata": {},
   "source": [
    "we can see that person with lower income stability(28317) apply for loan and their type of employment is Laborers(22730).People prefer staying in semi urban locality(29644) as we can see people of those area have applied for loan."
   ]
  },
  {
   "cell_type": "code",
   "execution_count": 82,
   "id": "69b41b03",
   "metadata": {},
   "outputs": [
    {
     "data": {
      "text/html": [
       "<div>\n",
       "<style scoped>\n",
       "    .dataframe tbody tr th:only-of-type {\n",
       "        vertical-align: middle;\n",
       "    }\n",
       "\n",
       "    .dataframe tbody tr th {\n",
       "        vertical-align: top;\n",
       "    }\n",
       "\n",
       "    .dataframe thead th {\n",
       "        text-align: right;\n",
       "    }\n",
       "</style>\n",
       "<table border=\"1\" class=\"dataframe\">\n",
       "  <thead>\n",
       "    <tr style=\"text-align: right;\">\n",
       "      <th></th>\n",
       "      <th>Gender</th>\n",
       "      <th>Income Stability</th>\n",
       "      <th>Profession</th>\n",
       "      <th>Type of Employment</th>\n",
       "      <th>Location</th>\n",
       "      <th>Expense Type 1</th>\n",
       "      <th>Expense Type 2</th>\n",
       "      <th>Has Active Credit Card</th>\n",
       "      <th>Property Location</th>\n",
       "    </tr>\n",
       "  </thead>\n",
       "  <tbody>\n",
       "    <tr>\n",
       "      <th>count</th>\n",
       "      <td>29947</td>\n",
       "      <td>28317</td>\n",
       "      <td>30000</td>\n",
       "      <td>22730</td>\n",
       "      <td>30000</td>\n",
       "      <td>30000</td>\n",
       "      <td>30000</td>\n",
       "      <td>28434</td>\n",
       "      <td>29644</td>\n",
       "    </tr>\n",
       "    <tr>\n",
       "      <th>unique</th>\n",
       "      <td>2</td>\n",
       "      <td>2</td>\n",
       "      <td>8</td>\n",
       "      <td>18</td>\n",
       "      <td>3</td>\n",
       "      <td>2</td>\n",
       "      <td>2</td>\n",
       "      <td>3</td>\n",
       "      <td>3</td>\n",
       "    </tr>\n",
       "    <tr>\n",
       "      <th>top</th>\n",
       "      <td>M</td>\n",
       "      <td>Low</td>\n",
       "      <td>Working</td>\n",
       "      <td>Laborers</td>\n",
       "      <td>Semi-Urban</td>\n",
       "      <td>N</td>\n",
       "      <td>Y</td>\n",
       "      <td>Active</td>\n",
       "      <td>Semi-Urban</td>\n",
       "    </tr>\n",
       "    <tr>\n",
       "      <th>freq</th>\n",
       "      <td>15053</td>\n",
       "      <td>25751</td>\n",
       "      <td>16926</td>\n",
       "      <td>5578</td>\n",
       "      <td>21563</td>\n",
       "      <td>19214</td>\n",
       "      <td>20180</td>\n",
       "      <td>9771</td>\n",
       "      <td>10387</td>\n",
       "    </tr>\n",
       "  </tbody>\n",
       "</table>\n",
       "</div>"
      ],
      "text/plain": [
       "       Gender Income Stability Profession Type of Employment    Location  \\\n",
       "count   29947            28317      30000              22730       30000   \n",
       "unique      2                2          8                 18           3   \n",
       "top         M              Low    Working           Laborers  Semi-Urban   \n",
       "freq    15053            25751      16926               5578       21563   \n",
       "\n",
       "       Expense Type 1 Expense Type 2 Has Active Credit Card Property Location  \n",
       "count           30000          30000                  28434             29644  \n",
       "unique              2              2                      3                 3  \n",
       "top                 N              Y                 Active        Semi-Urban  \n",
       "freq            19214          20180                   9771             10387  "
      ]
     },
     "execution_count": 82,
     "metadata": {},
     "output_type": "execute_result"
    }
   ],
   "source": [
    "df_cat.describe()"
   ]
  },
  {
   "cell_type": "markdown",
   "id": "6e800f2e",
   "metadata": {},
   "source": [
    "We can see a wide variety in profession and type of employment of people who have applied for loan as their unique values are 8 and 18"
   ]
  },
  {
   "cell_type": "code",
   "execution_count": 83,
   "id": "7a9dc736",
   "metadata": {},
   "outputs": [
    {
     "data": {
      "text/plain": [
       "Gender                      53\n",
       "Income Stability          1683\n",
       "Profession                   0\n",
       "Type of Employment        7270\n",
       "Location                     0\n",
       "Expense Type 1               0\n",
       "Expense Type 2               0\n",
       "Has Active Credit Card    1566\n",
       "Property Location          356\n",
       "dtype: int64"
      ]
     },
     "execution_count": 83,
     "metadata": {},
     "output_type": "execute_result"
    }
   ],
   "source": [
    "df_cat.isna().sum()"
   ]
  },
  {
   "cell_type": "markdown",
   "id": "c3565837",
   "metadata": {},
   "source": [
    "3.4 Value Counts"
   ]
  },
  {
   "cell_type": "markdown",
   "id": "cf016c8a",
   "metadata": {},
   "source": [
    "Here we can see that there are 9 categorical variables. we are going to look at the uniqueness of values present in them"
   ]
  },
  {
   "cell_type": "markdown",
   "id": "14d5d804",
   "metadata": {},
   "source": [
    "#### 1.Gender "
   ]
  },
  {
   "cell_type": "code",
   "execution_count": 84,
   "id": "ddaffb16",
   "metadata": {},
   "outputs": [
    {
     "data": {
      "text/plain": [
       "M    15053\n",
       "F    14894\n",
       "Name: Gender, dtype: int64"
      ]
     },
     "execution_count": 84,
     "metadata": {},
     "output_type": "execute_result"
    }
   ],
   "source": [
    "df['Gender'].value_counts()"
   ]
  },
  {
   "cell_type": "code",
   "execution_count": 85,
   "id": "e7890f8d",
   "metadata": {},
   "outputs": [
    {
     "data": {
      "text/plain": [
       "array(['F', 'M', nan], dtype=object)"
      ]
     },
     "execution_count": 85,
     "metadata": {},
     "output_type": "execute_result"
    }
   ],
   "source": [
    "df['Gender'].unique()"
   ]
  },
  {
   "cell_type": "code",
   "execution_count": 86,
   "id": "ce482473",
   "metadata": {},
   "outputs": [
    {
     "data": {
      "text/plain": [
       "53"
      ]
     },
     "execution_count": 86,
     "metadata": {},
     "output_type": "execute_result"
    }
   ],
   "source": [
    "df['Gender'].isna().sum()"
   ]
  },
  {
   "cell_type": "code",
   "execution_count": 87,
   "id": "088e3b1b",
   "metadata": {},
   "outputs": [],
   "source": [
    "df['Gender'].fillna(df['Gender'].mode().values[0],inplace=True)"
   ]
  },
  {
   "cell_type": "code",
   "execution_count": 88,
   "id": "743cde93",
   "metadata": {
    "scrolled": true
   },
   "outputs": [
    {
     "data": {
      "text/plain": [
       "0"
      ]
     },
     "execution_count": 88,
     "metadata": {},
     "output_type": "execute_result"
    }
   ],
   "source": [
    "df['Gender'].isna().sum()"
   ]
  },
  {
   "cell_type": "code",
   "execution_count": 89,
   "id": "c48654dd",
   "metadata": {},
   "outputs": [
    {
     "data": {
      "text/html": [
       "<div>\n",
       "<style scoped>\n",
       "    .dataframe tbody tr th:only-of-type {\n",
       "        vertical-align: middle;\n",
       "    }\n",
       "\n",
       "    .dataframe tbody tr th {\n",
       "        vertical-align: top;\n",
       "    }\n",
       "\n",
       "    .dataframe thead th {\n",
       "        text-align: right;\n",
       "    }\n",
       "</style>\n",
       "<table border=\"1\" class=\"dataframe\">\n",
       "  <thead>\n",
       "    <tr style=\"text-align: right;\">\n",
       "      <th></th>\n",
       "      <th>Gender</th>\n",
       "      <th>Age</th>\n",
       "      <th>Income (USD)</th>\n",
       "      <th>Income Stability</th>\n",
       "      <th>Profession</th>\n",
       "      <th>Type of Employment</th>\n",
       "      <th>Location</th>\n",
       "      <th>Loan Amount Request (USD)</th>\n",
       "      <th>Current Loan Expenses (USD)</th>\n",
       "      <th>Expense Type 1</th>\n",
       "      <th>...</th>\n",
       "      <th>Dependents</th>\n",
       "      <th>Credit Score</th>\n",
       "      <th>No. of Defaults</th>\n",
       "      <th>Has Active Credit Card</th>\n",
       "      <th>Property Age</th>\n",
       "      <th>Property Type</th>\n",
       "      <th>Property Location</th>\n",
       "      <th>Co-Applicant</th>\n",
       "      <th>Property Price</th>\n",
       "      <th>Loan Sanction Amount (USD)</th>\n",
       "    </tr>\n",
       "  </thead>\n",
       "  <tbody>\n",
       "    <tr>\n",
       "      <th>0</th>\n",
       "      <td>F</td>\n",
       "      <td>56</td>\n",
       "      <td>1933.05</td>\n",
       "      <td>Low</td>\n",
       "      <td>Working</td>\n",
       "      <td>Sales staff</td>\n",
       "      <td>Semi-Urban</td>\n",
       "      <td>72809.58</td>\n",
       "      <td>241.08</td>\n",
       "      <td>N</td>\n",
       "      <td>...</td>\n",
       "      <td>3.0</td>\n",
       "      <td>809.44</td>\n",
       "      <td>0</td>\n",
       "      <td>NaN</td>\n",
       "      <td>1933.05</td>\n",
       "      <td>4</td>\n",
       "      <td>Rural</td>\n",
       "      <td>1</td>\n",
       "      <td>119933.46</td>\n",
       "      <td>54607.18</td>\n",
       "    </tr>\n",
       "    <tr>\n",
       "      <th>1</th>\n",
       "      <td>M</td>\n",
       "      <td>32</td>\n",
       "      <td>4952.91</td>\n",
       "      <td>Low</td>\n",
       "      <td>Working</td>\n",
       "      <td>NaN</td>\n",
       "      <td>Semi-Urban</td>\n",
       "      <td>46837.47</td>\n",
       "      <td>495.81</td>\n",
       "      <td>N</td>\n",
       "      <td>...</td>\n",
       "      <td>1.0</td>\n",
       "      <td>780.40</td>\n",
       "      <td>0</td>\n",
       "      <td>Unpossessed</td>\n",
       "      <td>4952.91</td>\n",
       "      <td>2</td>\n",
       "      <td>Rural</td>\n",
       "      <td>1</td>\n",
       "      <td>54791.00</td>\n",
       "      <td>37469.98</td>\n",
       "    </tr>\n",
       "    <tr>\n",
       "      <th>2</th>\n",
       "      <td>F</td>\n",
       "      <td>65</td>\n",
       "      <td>988.19</td>\n",
       "      <td>High</td>\n",
       "      <td>Pensioner</td>\n",
       "      <td>NaN</td>\n",
       "      <td>Semi-Urban</td>\n",
       "      <td>45593.04</td>\n",
       "      <td>171.95</td>\n",
       "      <td>N</td>\n",
       "      <td>...</td>\n",
       "      <td>1.0</td>\n",
       "      <td>833.15</td>\n",
       "      <td>0</td>\n",
       "      <td>Unpossessed</td>\n",
       "      <td>988.19</td>\n",
       "      <td>2</td>\n",
       "      <td>Urban</td>\n",
       "      <td>0</td>\n",
       "      <td>72440.58</td>\n",
       "      <td>36474.43</td>\n",
       "    </tr>\n",
       "    <tr>\n",
       "      <th>3</th>\n",
       "      <td>F</td>\n",
       "      <td>65</td>\n",
       "      <td>NaN</td>\n",
       "      <td>High</td>\n",
       "      <td>Pensioner</td>\n",
       "      <td>NaN</td>\n",
       "      <td>Rural</td>\n",
       "      <td>80057.92</td>\n",
       "      <td>298.54</td>\n",
       "      <td>N</td>\n",
       "      <td>...</td>\n",
       "      <td>2.0</td>\n",
       "      <td>832.70</td>\n",
       "      <td>1</td>\n",
       "      <td>Unpossessed</td>\n",
       "      <td>NaN</td>\n",
       "      <td>2</td>\n",
       "      <td>Semi-Urban</td>\n",
       "      <td>1</td>\n",
       "      <td>121441.51</td>\n",
       "      <td>56040.54</td>\n",
       "    </tr>\n",
       "    <tr>\n",
       "      <th>4</th>\n",
       "      <td>F</td>\n",
       "      <td>31</td>\n",
       "      <td>2614.77</td>\n",
       "      <td>Low</td>\n",
       "      <td>Working</td>\n",
       "      <td>High skill tech staff</td>\n",
       "      <td>Semi-Urban</td>\n",
       "      <td>113858.89</td>\n",
       "      <td>491.41</td>\n",
       "      <td>N</td>\n",
       "      <td>...</td>\n",
       "      <td>NaN</td>\n",
       "      <td>745.55</td>\n",
       "      <td>1</td>\n",
       "      <td>Active</td>\n",
       "      <td>2614.77</td>\n",
       "      <td>4</td>\n",
       "      <td>Semi-Urban</td>\n",
       "      <td>1</td>\n",
       "      <td>208567.91</td>\n",
       "      <td>74008.28</td>\n",
       "    </tr>\n",
       "  </tbody>\n",
       "</table>\n",
       "<p>5 rows × 21 columns</p>\n",
       "</div>"
      ],
      "text/plain": [
       "  Gender  Age  Income (USD) Income Stability Profession  \\\n",
       "0      F   56       1933.05              Low    Working   \n",
       "1      M   32       4952.91              Low    Working   \n",
       "2      F   65        988.19             High  Pensioner   \n",
       "3      F   65           NaN             High  Pensioner   \n",
       "4      F   31       2614.77              Low    Working   \n",
       "\n",
       "      Type of Employment    Location  Loan Amount Request (USD)  \\\n",
       "0            Sales staff  Semi-Urban                   72809.58   \n",
       "1                    NaN  Semi-Urban                   46837.47   \n",
       "2                    NaN  Semi-Urban                   45593.04   \n",
       "3                    NaN       Rural                   80057.92   \n",
       "4  High skill tech staff  Semi-Urban                  113858.89   \n",
       "\n",
       "   Current Loan Expenses (USD) Expense Type 1  ... Dependents  Credit Score  \\\n",
       "0                       241.08              N  ...        3.0        809.44   \n",
       "1                       495.81              N  ...        1.0        780.40   \n",
       "2                       171.95              N  ...        1.0        833.15   \n",
       "3                       298.54              N  ...        2.0        832.70   \n",
       "4                       491.41              N  ...        NaN        745.55   \n",
       "\n",
       "   No. of Defaults  Has Active Credit Card Property Age  Property Type  \\\n",
       "0                0                     NaN      1933.05              4   \n",
       "1                0             Unpossessed      4952.91              2   \n",
       "2                0             Unpossessed       988.19              2   \n",
       "3                1             Unpossessed          NaN              2   \n",
       "4                1                  Active      2614.77              4   \n",
       "\n",
       "   Property Location Co-Applicant  Property Price  Loan Sanction Amount (USD)  \n",
       "0              Rural            1       119933.46                    54607.18  \n",
       "1              Rural            1        54791.00                    37469.98  \n",
       "2              Urban            0        72440.58                    36474.43  \n",
       "3         Semi-Urban            1       121441.51                    56040.54  \n",
       "4         Semi-Urban            1       208567.91                    74008.28  \n",
       "\n",
       "[5 rows x 21 columns]"
      ]
     },
     "execution_count": 89,
     "metadata": {},
     "output_type": "execute_result"
    }
   ],
   "source": [
    "df.head()"
   ]
  },
  {
   "cell_type": "markdown",
   "id": "dc2ad816",
   "metadata": {},
   "source": [
    "We can see that other than F & M there are many nan values also present in this column."
   ]
  },
  {
   "cell_type": "markdown",
   "id": "0168025c",
   "metadata": {},
   "source": [
    "#### 2.Income Stability"
   ]
  },
  {
   "cell_type": "code",
   "execution_count": 90,
   "id": "483bb0e5",
   "metadata": {},
   "outputs": [
    {
     "data": {
      "text/plain": [
       "Low     25751\n",
       "High     2566\n",
       "Name: Income Stability, dtype: int64"
      ]
     },
     "execution_count": 90,
     "metadata": {},
     "output_type": "execute_result"
    }
   ],
   "source": [
    "df['Income Stability'].value_counts() #low is of highest frequency"
   ]
  },
  {
   "cell_type": "code",
   "execution_count": 91,
   "id": "d3a41c49",
   "metadata": {},
   "outputs": [
    {
     "data": {
      "text/plain": [
       "array(['Low', 'High', nan], dtype=object)"
      ]
     },
     "execution_count": 91,
     "metadata": {},
     "output_type": "execute_result"
    }
   ],
   "source": [
    "df['Income Stability'].unique() #there are 1683 null values"
   ]
  },
  {
   "cell_type": "code",
   "execution_count": 92,
   "id": "9a0ad384",
   "metadata": {},
   "outputs": [
    {
     "data": {
      "text/plain": [
       "1683"
      ]
     },
     "execution_count": 92,
     "metadata": {},
     "output_type": "execute_result"
    }
   ],
   "source": [
    "df['Income Stability'].isna().sum()"
   ]
  },
  {
   "cell_type": "code",
   "execution_count": 93,
   "id": "5a44b7c0",
   "metadata": {},
   "outputs": [],
   "source": [
    "df['Income Stability'].fillna(df['Income Stability'].mode().values[0],inplace=True)"
   ]
  },
  {
   "cell_type": "code",
   "execution_count": 94,
   "id": "d9fc3e5b",
   "metadata": {},
   "outputs": [
    {
     "data": {
      "text/plain": [
       "0"
      ]
     },
     "execution_count": 94,
     "metadata": {},
     "output_type": "execute_result"
    }
   ],
   "source": [
    "df['Income Stability'].isna().sum()"
   ]
  },
  {
   "cell_type": "markdown",
   "id": "b5cea169",
   "metadata": {},
   "source": [
    "#### 3.Profession  "
   ]
  },
  {
   "cell_type": "code",
   "execution_count": 95,
   "id": "7918965e",
   "metadata": {},
   "outputs": [
    {
     "data": {
      "text/plain": [
       "array(['Working', 'Pensioner', 'State servant', 'Commercial associate',\n",
       "       'Unemployed', 'Student', 'Businessman', 'Maternity leave'],\n",
       "      dtype=object)"
      ]
     },
     "execution_count": 95,
     "metadata": {},
     "output_type": "execute_result"
    }
   ],
   "source": [
    "df['Profession'].unique()"
   ]
  },
  {
   "cell_type": "code",
   "execution_count": 96,
   "id": "fc8855c0",
   "metadata": {},
   "outputs": [
    {
     "data": {
      "text/plain": [
       "Working                 16926\n",
       "Commercial associate     7962\n",
       "Pensioner                2740\n",
       "State servant            2366\n",
       "Unemployed                  2\n",
       "Businessman                 2\n",
       "Student                     1\n",
       "Maternity leave             1\n",
       "Name: Profession, dtype: int64"
      ]
     },
     "execution_count": 96,
     "metadata": {},
     "output_type": "execute_result"
    }
   ],
   "source": [
    "df['Profession'].value_counts()"
   ]
  },
  {
   "cell_type": "markdown",
   "id": "9b297704",
   "metadata": {},
   "source": [
    "Loans are taken in higher number by working class."
   ]
  },
  {
   "cell_type": "markdown",
   "id": "e6dd602e",
   "metadata": {},
   "source": [
    "#### 4. Type of Employment"
   ]
  },
  {
   "cell_type": "code",
   "execution_count": 97,
   "id": "67c60c48",
   "metadata": {},
   "outputs": [
    {
     "data": {
      "text/plain": [
       "Laborers                 5578\n",
       "Sales staff              3736\n",
       "Core staff               3230\n",
       "Managers                 2495\n",
       "Drivers                  1606\n",
       "Accountants              1379\n",
       "High skill tech staff    1307\n",
       "Medicine staff            864\n",
       "Security staff            579\n",
       "Cooking staff             566\n",
       "Private service staff     342\n",
       "Cleaning staff            341\n",
       "Low-skill Laborers        162\n",
       "Secretaries               161\n",
       "Waiters/barmen staff      149\n",
       "Realty agents              86\n",
       "IT staff                   77\n",
       "HR staff                   72\n",
       "Name: Type of Employment, dtype: int64"
      ]
     },
     "execution_count": 97,
     "metadata": {},
     "output_type": "execute_result"
    }
   ],
   "source": [
    "df['Type of Employment'].value_counts()"
   ]
  },
  {
   "cell_type": "code",
   "execution_count": 98,
   "id": "f567e2c6",
   "metadata": {},
   "outputs": [
    {
     "data": {
      "text/plain": [
       "array(['Sales staff', nan, 'High skill tech staff', 'Secretaries',\n",
       "       'Laborers', 'Managers', 'Cooking staff', 'Core staff', 'Drivers',\n",
       "       'Realty agents', 'Security staff', 'Accountants',\n",
       "       'Private service staff', 'Waiters/barmen staff', 'Medicine staff',\n",
       "       'Cleaning staff', 'Low-skill Laborers', 'HR staff', 'IT staff'],\n",
       "      dtype=object)"
      ]
     },
     "execution_count": 98,
     "metadata": {},
     "output_type": "execute_result"
    }
   ],
   "source": [
    "df['Type of Employment'].unique()"
   ]
  },
  {
   "cell_type": "code",
   "execution_count": 99,
   "id": "65a6728b",
   "metadata": {},
   "outputs": [
    {
     "data": {
      "text/plain": [
       "7270"
      ]
     },
     "execution_count": 99,
     "metadata": {},
     "output_type": "execute_result"
    }
   ],
   "source": [
    "df['Type of Employment'].isna().sum()"
   ]
  },
  {
   "cell_type": "code",
   "execution_count": 100,
   "id": "81bce3dc",
   "metadata": {},
   "outputs": [
    {
     "data": {
      "text/plain": [
       "0    Laborers\n",
       "Name: Type of Employment, dtype: object"
      ]
     },
     "execution_count": 100,
     "metadata": {},
     "output_type": "execute_result"
    }
   ],
   "source": [
    "df['Type of Employment'].mode()"
   ]
  },
  {
   "cell_type": "code",
   "execution_count": 101,
   "id": "f38fe38b",
   "metadata": {},
   "outputs": [],
   "source": [
    "df.fillna(df['Type of Employment'].mode().values[0],inplace=True) #replacing the null values present with mode"
   ]
  },
  {
   "cell_type": "code",
   "execution_count": 102,
   "id": "fec81fd9",
   "metadata": {},
   "outputs": [
    {
     "data": {
      "text/plain": [
       "0"
      ]
     },
     "execution_count": 102,
     "metadata": {},
     "output_type": "execute_result"
    }
   ],
   "source": [
    "df['Type of Employment'].isna().sum()"
   ]
  },
  {
   "cell_type": "markdown",
   "id": "494e50b8",
   "metadata": {},
   "source": [
    "#### 5.Has Active Credit Card "
   ]
  },
  {
   "cell_type": "code",
   "execution_count": 103,
   "id": "c10e958d",
   "metadata": {},
   "outputs": [
    {
     "data": {
      "text/plain": [
       "array(['Laborers', 'Unpossessed', 'Active', 'Inactive'], dtype=object)"
      ]
     },
     "execution_count": 103,
     "metadata": {},
     "output_type": "execute_result"
    }
   ],
   "source": [
    "df['Has Active Credit Card'].unique()"
   ]
  },
  {
   "cell_type": "code",
   "execution_count": 104,
   "id": "fbd8d338",
   "metadata": {},
   "outputs": [
    {
     "data": {
      "text/plain": [
       "0    Active\n",
       "Name: Has Active Credit Card, dtype: object"
      ]
     },
     "execution_count": 104,
     "metadata": {},
     "output_type": "execute_result"
    }
   ],
   "source": [
    "df['Has Active Credit Card'].mode()"
   ]
  },
  {
   "cell_type": "code",
   "execution_count": 105,
   "id": "f18fc9ab",
   "metadata": {},
   "outputs": [
    {
     "data": {
      "text/plain": [
       "0"
      ]
     },
     "execution_count": 105,
     "metadata": {},
     "output_type": "execute_result"
    }
   ],
   "source": [
    "df['Has Active Credit Card'].isna().sum()"
   ]
  },
  {
   "cell_type": "code",
   "execution_count": 106,
   "id": "4aee91b0",
   "metadata": {},
   "outputs": [],
   "source": [
    "df['Has Active Credit Card'].fillna(df['Has Active Credit Card'].mode().values[0],inplace=True)"
   ]
  },
  {
   "cell_type": "code",
   "execution_count": 107,
   "id": "f39858e3",
   "metadata": {},
   "outputs": [
    {
     "data": {
      "text/plain": [
       "0"
      ]
     },
     "execution_count": 107,
     "metadata": {},
     "output_type": "execute_result"
    }
   ],
   "source": [
    "df['Has Active Credit Card'].isna().sum()"
   ]
  },
  {
   "cell_type": "markdown",
   "id": "5ffe28a6",
   "metadata": {},
   "source": [
    "#### 6.Property Location"
   ]
  },
  {
   "cell_type": "code",
   "execution_count": 108,
   "id": "4af9dc13",
   "metadata": {},
   "outputs": [
    {
     "data": {
      "text/plain": [
       "array(['Rural', 'Urban', 'Semi-Urban', 'Laborers'], dtype=object)"
      ]
     },
     "execution_count": 108,
     "metadata": {},
     "output_type": "execute_result"
    }
   ],
   "source": [
    "df['Property Location'].unique()"
   ]
  },
  {
   "cell_type": "code",
   "execution_count": 109,
   "id": "449d0fb2",
   "metadata": {},
   "outputs": [
    {
     "data": {
      "text/plain": [
       "0    Semi-Urban\n",
       "Name: Property Location, dtype: object"
      ]
     },
     "execution_count": 109,
     "metadata": {},
     "output_type": "execute_result"
    }
   ],
   "source": [
    "df['Property Location'].mode()"
   ]
  },
  {
   "cell_type": "code",
   "execution_count": 110,
   "id": "cd62d03d",
   "metadata": {},
   "outputs": [
    {
     "data": {
      "text/plain": [
       "0"
      ]
     },
     "execution_count": 110,
     "metadata": {},
     "output_type": "execute_result"
    }
   ],
   "source": [
    "df['Property Location'].isna().sum()"
   ]
  },
  {
   "cell_type": "code",
   "execution_count": 111,
   "id": "ec2c2012",
   "metadata": {},
   "outputs": [],
   "source": [
    "df['Property Location'].fillna(df['Property Location'].mode().values[0],inplace=True)"
   ]
  },
  {
   "cell_type": "code",
   "execution_count": 112,
   "id": "492d643c",
   "metadata": {},
   "outputs": [
    {
     "data": {
      "text/plain": [
       "0"
      ]
     },
     "execution_count": 112,
     "metadata": {},
     "output_type": "execute_result"
    }
   ],
   "source": [
    "df['Property Location'].isna().sum()"
   ]
  },
  {
   "cell_type": "markdown",
   "id": "d71f5509",
   "metadata": {},
   "source": [
    "Here we have dealt with all categorical variables and have replaced all null values in it with mode. now we can start dealing with numerical null values"
   ]
  },
  {
   "cell_type": "markdown",
   "id": "c8386e4e",
   "metadata": {},
   "source": [
    "3.4 Inter Quartile Range"
   ]
  },
  {
   "cell_type": "code",
   "execution_count": 113,
   "id": "494ca610",
   "metadata": {},
   "outputs": [
    {
     "data": {
      "text/plain": [
       "Age                             25.000\n",
       "Loan Amount Request (USD)    41177.755\n",
       "No. of Defaults                  0.000\n",
       "Property Type                    1.000\n",
       "Co-Applicant                     1.000\n",
       "Property Price               60572.160\n",
       "Name: 0.25, dtype: float64"
      ]
     },
     "execution_count": 113,
     "metadata": {},
     "output_type": "execute_result"
    }
   ],
   "source": [
    "#first quartile\n",
    "df.quantile(0.25)"
   ]
  },
  {
   "cell_type": "markdown",
   "id": "a0de2fb1",
   "metadata": {},
   "source": [
    "first quartile means 25% of the data is below or equal to this value and 75% of data is above it.We can see that 25% of applicants are of age 25 who applies for loan amount of 42k for property price of 60k.We can also see that co applicant and property type are numericals which are already encoded."
   ]
  },
  {
   "cell_type": "code",
   "execution_count": 114,
   "id": "53f49fff",
   "metadata": {},
   "outputs": [
    {
     "data": {
      "text/plain": [
       "Age                              40.000\n",
       "Loan Amount Request (USD)     75128.075\n",
       "No. of Defaults                   0.000\n",
       "Property Type                     2.000\n",
       "Co-Applicant                      1.000\n",
       "Property Price               109993.610\n",
       "Name: 0.5, dtype: float64"
      ]
     },
     "execution_count": 114,
     "metadata": {},
     "output_type": "execute_result"
    }
   ],
   "source": [
    "#second quartile\n",
    "df.quantile(0.5)"
   ]
  },
  {
   "cell_type": "code",
   "execution_count": 115,
   "id": "4824cda8",
   "metadata": {},
   "outputs": [
    {
     "data": {
      "text/plain": [
       "Age                              55.000\n",
       "Loan Amount Request (USD)    119964.605\n",
       "No. of Defaults                   0.000\n",
       "Property Type                     3.000\n",
       "Co-Applicant                      1.000\n",
       "Property Price               178880.720\n",
       "Name: 0.75, dtype: float64"
      ]
     },
     "execution_count": 115,
     "metadata": {},
     "output_type": "execute_result"
    }
   ],
   "source": [
    "#third quartile\n",
    "df.quantile(0.75)"
   ]
  },
  {
   "cell_type": "code",
   "execution_count": 116,
   "id": "77411444",
   "metadata": {},
   "outputs": [
    {
     "name": "stdout",
     "output_type": "stream",
     "text": [
      "Age                              30.00\n",
      "Loan Amount Request (USD)     78786.85\n",
      "No. of Defaults                   0.00\n",
      "Property Type                     2.00\n",
      "Co-Applicant                      0.00\n",
      "Property Price               118308.56\n",
      "dtype: float64\n"
     ]
    }
   ],
   "source": [
    "print(df.quantile(0.75)-df.quantile(0.25))"
   ]
  },
  {
   "cell_type": "markdown",
   "id": "592e115a",
   "metadata": {},
   "source": [
    "Here we can see that dispersion is quite significant in every numeric categories. For loan amount & property price request the dispersion is quite hgh which means that it consist of large number of outliers."
   ]
  },
  {
   "cell_type": "markdown",
   "id": "e5c83df6",
   "metadata": {},
   "source": [
    "3.5 Range"
   ]
  },
  {
   "cell_type": "code",
   "execution_count": 49,
   "id": "1de1eecb",
   "metadata": {},
   "outputs": [
    {
     "name": "stdout",
     "output_type": "stream",
     "text": [
      "Age                               47.00\n",
      "Loan Amount Request (USD)     615449.58\n",
      "No. of Defaults                    1.00\n",
      "Property Type                      3.00\n",
      "Co-Applicant                    1000.00\n",
      "Property Price               1078965.73\n",
      "dtype: float64\n"
     ]
    }
   ],
   "source": [
    "df_num =df.select_dtypes(include=np.number)\n",
    "\n",
    "#to find range\n",
    "print(df_num.max()-df_num.min())"
   ]
  },
  {
   "cell_type": "markdown",
   "id": "e6385907",
   "metadata": {},
   "source": [
    "The difference between lowest and highest property is 1078965 rs which means the dispersion is quite high and it contain outliers."
   ]
  },
  {
   "cell_type": "markdown",
   "id": "21a51748",
   "metadata": {},
   "source": [
    "3.6 Variance"
   ]
  },
  {
   "cell_type": "code",
   "execution_count": 50,
   "id": "142ca871",
   "metadata": {},
   "outputs": [
    {
     "data": {
      "text/plain": [
       "Age                          2.574460e+02\n",
       "Loan Amount Request (USD)    3.544648e+09\n",
       "No. of Defaults              1.560000e-01\n",
       "Property Type                1.251000e+00\n",
       "Co-Applicant                 5.567337e+03\n",
       "Property Price               8.751518e+09\n",
       "dtype: float64"
      ]
     },
     "execution_count": 50,
     "metadata": {},
     "output_type": "execute_result"
    }
   ],
   "source": [
    "var=df_num.var()\n",
    "round(var,3)"
   ]
  },
  {
   "cell_type": "markdown",
   "id": "fb7b1ba3",
   "metadata": {},
   "source": [
    "3.7 Deviation"
   ]
  },
  {
   "cell_type": "code",
   "execution_count": 51,
   "id": "76a9d229",
   "metadata": {},
   "outputs": [
    {
     "name": "stdout",
     "output_type": "stream",
     "text": [
      "Age                             16.045129\n",
      "Loan Amount Request (USD)    59536.949605\n",
      "No. of Defaults                  0.395384\n",
      "Property Type                    1.118562\n",
      "Co-Applicant                    74.614593\n",
      "Property Price               93549.548104\n",
      "dtype: float64\n"
     ]
    },
    {
     "name": "stderr",
     "output_type": "stream",
     "text": [
      "C:\\Users\\User\\AppData\\Local\\Temp\\ipykernel_17460\\4056096182.py:2: FutureWarning: Dropping of nuisance columns in DataFrame reductions (with 'numeric_only=None') is deprecated; in a future version this will raise TypeError.  Select only valid columns before calling the reduction.\n",
      "  print(df.std())\n"
     ]
    }
   ],
   "source": [
    "#calculate standard deviation\n",
    "print(df.std())"
   ]
  },
  {
   "cell_type": "markdown",
   "id": "67107ce9",
   "metadata": {},
   "source": [
    "Here no of defaults has deviation value near to zero which means there is no much variance. however we cannot use deviation as an apt measure of study because each value will be of different units and it is not sensible to compare values of different units."
   ]
  },
  {
   "cell_type": "markdown",
   "id": "3691eb60",
   "metadata": {},
   "source": [
    "# 4.Distributuion of data"
   ]
  },
  {
   "cell_type": "markdown",
   "id": "bf1a1968",
   "metadata": {},
   "source": [
    "We will look aat the distribution of categorical variables through countplot and numerical variable through density plot to know about the apread of data"
   ]
  },
  {
   "cell_type": "code",
   "execution_count": 52,
   "id": "d2fdc89b",
   "metadata": {},
   "outputs": [],
   "source": [
    "import matplotlib.pyplot as plt\n",
    "%matplotlib inline"
   ]
  },
  {
   "cell_type": "code",
   "execution_count": 53,
   "id": "c02f2a7e",
   "metadata": {},
   "outputs": [],
   "source": [
    "var_categorical = ['Gender', 'Income Stability', 'Profession', 'Type of Employment', 'Location',\n",
    "                  'Expense Type 1', 'Expense Type 2', 'Dependents', 'No. of Defaults', 'Has Active Credit Card',\n",
    "                  'Property Type', 'Property Location', 'Co-Applicant']\n",
    "var_numerical = df.select_dtypes(include=np.number)"
   ]
  },
  {
   "cell_type": "code",
   "execution_count": 54,
   "id": "e1dbb52d",
   "metadata": {},
   "outputs": [],
   "source": [
    "var_target = ['Loan Sanction Amount (USD)']"
   ]
  },
  {
   "cell_type": "code",
   "execution_count": 55,
   "id": "45289e56",
   "metadata": {},
   "outputs": [
    {
     "data": {
      "text/plain": [
       "array([[<AxesSubplot:ylabel='Density'>, <AxesSubplot:ylabel='Density'>,\n",
       "        <AxesSubplot:ylabel='Density'>],\n",
       "       [<AxesSubplot:ylabel='Density'>, <AxesSubplot:ylabel='Density'>,\n",
       "        <AxesSubplot:ylabel='Density'>],\n",
       "       [<AxesSubplot:ylabel='Density'>, <AxesSubplot:ylabel='Density'>,\n",
       "        <AxesSubplot:ylabel='Density'>]], dtype=object)"
      ]
     },
     "execution_count": 55,
     "metadata": {},
     "output_type": "execute_result"
    },
    {
     "data": {
      "text/plain": [
       "<Figure size 1500x600 with 0 Axes>"
      ]
     },
     "metadata": {},
     "output_type": "display_data"
    },
    {
     "data": {
      "image/png": "[encoded data removed]",
      "text/plain": [
       "<Figure size 640x480 with 9 Axes>"
      ]
     },
     "metadata": {},
     "output_type": "display_data"
    }
   ],
   "source": [
    "#for plotting density\n",
    "plt.figure(figsize=(15,6))\n",
    "df.plot(kind = 'density', subplots = True, layout = (3,3), sharex = False)"
   ]
  },
  {
   "cell_type": "markdown",
   "id": "78ea69dc",
   "metadata": {},
   "source": [
    "# 5 Shape of data"
   ]
  },
  {
   "cell_type": "markdown",
   "id": "c277220d",
   "metadata": {},
   "source": [
    "### 1.Skewness"
   ]
  },
  {
   "cell_type": "code",
   "execution_count": 56,
   "id": "aa23afb9",
   "metadata": {},
   "outputs": [
    {
     "name": "stderr",
     "output_type": "stream",
     "text": [
      "C:\\Users\\User\\AppData\\Local\\Temp\\ipykernel_17460\\1665899112.py:1: FutureWarning: Dropping of nuisance columns in DataFrame reductions (with 'numeric_only=None') is deprecated; in a future version this will raise TypeError.  Select only valid columns before calling the reduction.\n",
      "  df.skew()\n"
     ]
    },
    {
     "data": {
      "text/plain": [
       "Age                           0.046094\n",
       "Loan Amount Request (USD)     1.260392\n",
       "No. of Defaults               1.548303\n",
       "Property Type                 0.051070\n",
       "Co-Applicant                -13.250768\n",
       "Property Price                1.416965\n",
       "dtype: float64"
      ]
     },
     "execution_count": 56,
     "metadata": {},
     "output_type": "execute_result"
    }
   ],
   "source": [
    "df.skew()"
   ]
  },
  {
   "cell_type": "markdown",
   "id": "5558b57c",
   "metadata": {},
   "source": [
    "The variables age & property type are normal\n",
    "Loan Amount Request (USD),No. of Defaults & Property Price are highly positively skewed, more values are distributed towards left side and right tail is longer.\n",
    "Co-Applicant is highly negatively skewed more points are distributed towards right side and left tail is longer.\n",
    "This means both the right skewed and left skewed consist of outliers.\n"
   ]
  },
  {
   "cell_type": "code",
   "execution_count": 57,
   "id": "489165f4",
   "metadata": {},
   "outputs": [],
   "source": [
    "### 2.Kurtosis"
   ]
  },
  {
   "cell_type": "code",
   "execution_count": 58,
   "id": "81f64c34",
   "metadata": {},
   "outputs": [
    {
     "name": "stderr",
     "output_type": "stream",
     "text": [
      "C:\\Users\\User\\AppData\\Local\\Temp\\ipykernel_17460\\615572439.py:1: FutureWarning: Dropping of nuisance columns in DataFrame reductions (with 'numeric_only=None') is deprecated; in a future version this will raise TypeError.  Select only valid columns before calling the reduction.\n",
      "  df.kurtosis()\n"
     ]
    },
    {
     "data": {
      "text/plain": [
       "Age                           -1.382083\n",
       "Loan Amount Request (USD)      2.103380\n",
       "No. of Defaults                0.397270\n",
       "Property Type                 -1.359001\n",
       "Co-Applicant                 173.598387\n",
       "Property Price                 3.149422\n",
       "dtype: float64"
      ]
     },
     "execution_count": 58,
     "metadata": {},
     "output_type": "execute_result"
    }
   ],
   "source": [
    "df.kurtosis()"
   ]
  },
  {
   "cell_type": "code",
   "execution_count": null,
   "id": "e7eb7f13",
   "metadata": {},
   "outputs": [],
   "source": []
  },
  {
   "cell_type": "markdown",
   "id": "b2d5cf24",
   "metadata": {},
   "source": [
    "# BOX PLOT"
   ]
  },
  {
   "cell_type": "markdown",
   "id": "d007d2f2",
   "metadata": {},
   "source": [
    "Box plot helps to visualise the outlliers present in data. \n",
    "For positively skewed distribution median is towards first quartile\n",
    "for negatively skewed it is more shifted towards third quartile(towards right or up)\n",
    "for zero skewness the median is in the middle of box plot\n",
    "\n",
    "The points which lies away from whiskers shoes the outliers present in the distribution"
   ]
  },
  {
   "cell_type": "code",
   "execution_count": 59,
   "id": "ad0b0148",
   "metadata": {},
   "outputs": [],
   "source": [
    "import matplotlib.pyplot as plt\n",
    "%matplotlib inline\n",
    "import seaborn as sns"
   ]
  },
  {
   "cell_type": "code",
   "execution_count": 60,
   "id": "b10e86bf",
   "metadata": {},
   "outputs": [
    {
     "data": {
      "text/plain": [
       "0"
      ]
     },
     "execution_count": 60,
     "metadata": {},
     "output_type": "execute_result"
    }
   ],
   "source": [
    "df['Loan Sanction Amount (USD)'].isna().sum()"
   ]
  },
  {
   "cell_type": "code",
   "execution_count": 61,
   "id": "b835aa02",
   "metadata": {},
   "outputs": [
    {
     "data": {
      "text/plain": [
       "7865"
      ]
     },
     "execution_count": 61,
     "metadata": {},
     "output_type": "execute_result"
    }
   ],
   "source": [
    "import numpy as np\n",
    "np.sum(df['Loan Sanction Amount (USD)']==0)"
   ]
  },
  {
   "cell_type": "code",
   "execution_count": 62,
   "id": "559d12e8",
   "metadata": {},
   "outputs": [],
   "source": [
    "var_target=df['Loan Sanction Amount (USD)']"
   ]
  },
  {
   "cell_type": "markdown",
   "id": "4c2033ad",
   "metadata": {},
   "source": [
    "7865 applicants have got 0 loan amount sanctioned. This means loan was not sanctioned to them."
   ]
  },
  {
   "cell_type": "markdown",
   "id": "6bbe39d8",
   "metadata": {},
   "source": [
    "we came to conclusion that most of our data in target variable is zero that means no loan was sanctioned to those customers."
   ]
  },
  {
   "cell_type": "markdown",
   "id": "a512642c",
   "metadata": {},
   "source": [
    "#### Correlation"
   ]
  },
  {
   "cell_type": "code",
   "execution_count": 63,
   "id": "9346d8f1",
   "metadata": {},
   "outputs": [],
   "source": [
    "import seaborn as sns\n",
    "import numpy as np"
   ]
  },
  {
   "cell_type": "code",
   "execution_count": 64,
   "id": "a7163bdb",
   "metadata": {
    "scrolled": true
   },
   "outputs": [
    {
     "data": {
      "text/plain": [
       "<AxesSubplot:>"
      ]
     },
     "execution_count": 64,
     "metadata": {},
     "output_type": "execute_result"
    },
    {
     "data": {
      "image/png": "[encoded data removed]",
      "text/plain": [
       "<Figure size 640x480 with 2 Axes>"
      ]
     },
     "metadata": {},
     "output_type": "display_data"
    }
   ],
   "source": [
    "sns.heatmap(df.corr())"
   ]
  },
  {
   "cell_type": "markdown",
   "id": "579e3458",
   "metadata": {},
   "source": [
    "We can see that there is 0.95 collinearity, but bank only lents 80% of money requested so we create a new column which stores minimum of request amount and 80% of property price"
   ]
  },
  {
   "cell_type": "code",
   "execution_count": 65,
   "id": "0ca3d212",
   "metadata": {},
   "outputs": [],
   "source": [
    "df = df.drop([\"Property Age\"], axis = 1,inplace= True)"
   ]
  },
  {
   "cell_type": "markdown",
   "id": "15a76308",
   "metadata": {},
   "source": [
    "### Handling numerical missing values"
   ]
  },
  {
   "cell_type": "markdown",
   "id": "86611fe0",
   "metadata": {},
   "source": [
    "#### 1. Income (USD)"
   ]
  },
  {
   "cell_type": "code",
   "execution_count": 120,
   "id": "24743c01",
   "metadata": {},
   "outputs": [
    {
     "name": "stdout",
     "output_type": "stream",
     "text": [
      "<class 'pandas.core.series.Series'>\n",
      "RangeIndex: 30000 entries, 0 to 29999\n",
      "Series name: Income (USD)\n",
      "Non-Null Count  Dtype \n",
      "--------------  ----- \n",
      "30000 non-null  object\n",
      "dtypes: object(1)\n",
      "memory usage: 234.5+ KB\n"
     ]
    }
   ],
   "source": [
    "df['Income (USD)'].info()"
   ]
  },
  {
   "cell_type": "code",
   "execution_count": 122,
   "id": "37bc59dc",
   "metadata": {},
   "outputs": [
    {
     "data": {
      "text/plain": [
       "4576"
      ]
     },
     "execution_count": 122,
     "metadata": {},
     "output_type": "execute_result"
    }
   ],
   "source": [
    "df['Income (USD)'].isnull().sum()"
   ]
  },
  {
   "cell_type": "code",
   "execution_count": 124,
   "id": "4d4326d7",
   "metadata": {
    "scrolled": true
   },
   "outputs": [
    {
     "data": {
      "text/plain": [
       "2630.5744174795564"
      ]
     },
     "execution_count": 124,
     "metadata": {},
     "output_type": "execute_result"
    }
   ],
   "source": [
    "a=df['Income (USD)'].mean()\n",
    "a"
   ]
  },
  {
   "cell_type": "markdown",
   "id": "4b9c7bf2",
   "metadata": {},
   "source": [
    "As we notice that income has large number of outliers we replace null values with median"
   ]
  },
  {
   "cell_type": "code",
   "execution_count": 125,
   "id": "a98af934",
   "metadata": {},
   "outputs": [],
   "source": [
    "df['Income (USD)'].fillna(df['Income (USD)'].median(),inplace=True)"
   ]
  },
  {
   "cell_type": "markdown",
   "id": "b757528c",
   "metadata": {},
   "source": [
    "#### 2. Current Loan Expenses (USD)  "
   ]
  },
  {
   "cell_type": "code",
   "execution_count": 126,
   "id": "e6d42e9f",
   "metadata": {},
   "outputs": [
    {
     "data": {
      "text/plain": [
       "-999.00    177\n",
       " 366.37      6\n",
       " 333.79      6\n",
       " 340.39      5\n",
       " 185.90      5\n",
       "          ... \n",
       " 192.78      1\n",
       " 612.22      1\n",
       " 288.52      1\n",
       " 788.17      1\n",
       " 693.94      1\n",
       "Name: Current Loan Expenses (USD), Length: 24041, dtype: int64"
      ]
     },
     "execution_count": 126,
     "metadata": {},
     "output_type": "execute_result"
    }
   ],
   "source": [
    "df['Current Loan Expenses (USD)'].value_counts()"
   ]
  },
  {
   "cell_type": "markdown",
   "id": "fcb90ed2",
   "metadata": {},
   "source": [
    "we can see it has -999 which is by mistake.so we will replace it with null at first and then replace it with median since it has outliers"
   ]
  },
  {
   "cell_type": "code",
   "execution_count": 127,
   "id": "dd32fec5",
   "metadata": {},
   "outputs": [
    {
     "name": "stderr",
     "output_type": "stream",
     "text": [
      "C:\\Users\\User\\AppData\\Local\\Temp\\ipykernel_17460\\907759258.py:3: SettingWithCopyWarning: \n",
      "A value is trying to be set on a copy of a slice from a DataFrame\n",
      "\n",
      "See the caveats in the documentation: https://pandas.pydata.org/pandas-docs/stable/user_guide/indexing.html#returning-a-view-versus-a-copy\n",
      "  df['Current Loan Expenses (USD)'][i]=np.nan\n"
     ]
    }
   ],
   "source": [
    "for i in range(len(df)):\n",
    "    if df['Current Loan Expenses (USD)'][i]==-999:\n",
    "        df['Current Loan Expenses (USD)'][i]=np.nan\n",
    "        \n",
    "    "
   ]
  },
  {
   "cell_type": "code",
   "execution_count": 128,
   "id": "c3e89848",
   "metadata": {},
   "outputs": [
    {
     "data": {
      "text/plain": [
       "349"
      ]
     },
     "execution_count": 128,
     "metadata": {},
     "output_type": "execute_result"
    }
   ],
   "source": [
    "df['Current Loan Expenses (USD)'].isna().sum()"
   ]
  },
  {
   "cell_type": "code",
   "execution_count": 129,
   "id": "54f29b75",
   "metadata": {},
   "outputs": [
    {
     "data": {
      "text/plain": [
       "array([241.08, 495.81, 171.95, ..., 583.11, 378.29, 693.94])"
      ]
     },
     "execution_count": 129,
     "metadata": {},
     "output_type": "execute_result"
    }
   ],
   "source": [
    "df['Current Loan Expenses (USD)'].unique()"
   ]
  },
  {
   "cell_type": "code",
   "execution_count": 130,
   "id": "c9a284b9",
   "metadata": {},
   "outputs": [],
   "source": [
    "df['Current Loan Expenses (USD)'].fillna(df['Current Loan Expenses (USD)'].median(),inplace=True)"
   ]
  },
  {
   "cell_type": "code",
   "execution_count": 131,
   "id": "7e49ccc2",
   "metadata": {},
   "outputs": [
    {
     "data": {
      "text/plain": [
       "0"
      ]
     },
     "execution_count": 131,
     "metadata": {},
     "output_type": "execute_result"
    }
   ],
   "source": [
    "df['Current Loan Expenses (USD)'].isna().sum()"
   ]
  },
  {
   "cell_type": "markdown",
   "id": "c68ce9f1",
   "metadata": {},
   "source": [
    "#### 3.Dependents"
   ]
  },
  {
   "cell_type": "code",
   "execution_count": 132,
   "id": "c006ab0d",
   "metadata": {},
   "outputs": [
    {
     "data": {
      "text/plain": [
       "2.0     13108\n",
       "3.0      5719\n",
       "1.0      5544\n",
       "4.0      2704\n",
       "5.0       372\n",
       "6.0        50\n",
       "7.0         7\n",
       "8.0         1\n",
       "10.0        1\n",
       "14.0        1\n",
       "Name: Dependents, dtype: int64"
      ]
     },
     "execution_count": 132,
     "metadata": {},
     "output_type": "execute_result"
    }
   ],
   "source": [
    "df['Dependents'].value_counts()"
   ]
  },
  {
   "cell_type": "code",
   "execution_count": 133,
   "id": "8de0e6d4",
   "metadata": {},
   "outputs": [
    {
     "data": {
      "text/plain": [
       "2493"
      ]
     },
     "execution_count": 133,
     "metadata": {},
     "output_type": "execute_result"
    }
   ],
   "source": [
    "df['Dependents'].isna().sum()"
   ]
  },
  {
   "cell_type": "code",
   "execution_count": 134,
   "id": "1d1dcd68",
   "metadata": {},
   "outputs": [],
   "source": [
    "df[\"Dependents\"] = df[\"Dependents\"].fillna(df[\"Dependents\"].mode().values[0],inplace=True)"
   ]
  },
  {
   "cell_type": "markdown",
   "id": "1a02d199",
   "metadata": {},
   "source": [
    "#### 4.Credit_score"
   ]
  },
  {
   "cell_type": "code",
   "execution_count": 135,
   "id": "d1b75f48",
   "metadata": {},
   "outputs": [
    {
     "data": {
      "text/plain": [
       "array([809.44, 780.4 , 833.15, ..., 709.43, 869.61, 815.44])"
      ]
     },
     "execution_count": 135,
     "metadata": {},
     "output_type": "execute_result"
    }
   ],
   "source": [
    "df['Credit Score'].unique()"
   ]
  },
  {
   "cell_type": "code",
   "execution_count": 136,
   "id": "2609f744",
   "metadata": {},
   "outputs": [
    {
     "data": {
      "text/plain": [
       "1703"
      ]
     },
     "execution_count": 136,
     "metadata": {},
     "output_type": "execute_result"
    }
   ],
   "source": [
    "df['Credit Score'].isna().sum()"
   ]
  },
  {
   "cell_type": "code",
   "execution_count": 137,
   "id": "9ad401e7",
   "metadata": {},
   "outputs": [],
   "source": [
    "df[\"Credit Score\"] = df[\"Credit Score\"].fillna(df[\"Credit Score\"].mean(),inplace=True)"
   ]
  },
  {
   "cell_type": "markdown",
   "id": "59fccbcd",
   "metadata": {},
   "source": [
    "#### 5.Loan Sanction Amount (USD) "
   ]
  },
  {
   "cell_type": "code",
   "execution_count": 138,
   "id": "66699b61",
   "metadata": {},
   "outputs": [
    {
     "data": {
      "text/plain": [
       "340"
      ]
     },
     "execution_count": 138,
     "metadata": {},
     "output_type": "execute_result"
    }
   ],
   "source": [
    "df['Loan Sanction Amount (USD)'].isna().sum()"
   ]
  },
  {
   "cell_type": "code",
   "execution_count": 139,
   "id": "116a145f",
   "metadata": {},
   "outputs": [
    {
     "data": {
      "text/plain": [
       "<AxesSubplot:xlabel='Loan Sanction Amount (USD)'>"
      ]
     },
     "execution_count": 139,
     "metadata": {},
     "output_type": "execute_result"
    },
    {
     "data": {
      "image/png": "[encoded data removed]",
      "text/plain": [
       "<Figure size 640x480 with 1 Axes>"
      ]
     },
     "metadata": {},
     "output_type": "display_data"
    }
   ],
   "source": [
    "sns.boxplot(x=df['Loan Sanction Amount (USD)']) #large number of outliers so we replace missing values with median"
   ]
  },
  {
   "cell_type": "code",
   "execution_count": 140,
   "id": "56280743",
   "metadata": {},
   "outputs": [
    {
     "data": {
      "text/plain": [
       " 0.00         7865\n",
       "-999.00        338\n",
       " 28937.45        3\n",
       " 54850.85        2\n",
       " 105047.72       2\n",
       "              ... \n",
       " 56365.75        1\n",
       " 25094.46        1\n",
       " 27046.62        1\n",
       " 59976.36        1\n",
       " 117217.90       1\n",
       "Name: Loan Sanction Amount (USD), Length: 21450, dtype: int64"
      ]
     },
     "execution_count": 140,
     "metadata": {},
     "output_type": "execute_result"
    }
   ],
   "source": [
    "df['Loan Sanction Amount (USD)'].value_counts() #there are unnecessary -999 in the data"
   ]
  },
  {
   "cell_type": "code",
   "execution_count": 141,
   "id": "f020d285",
   "metadata": {},
   "outputs": [
    {
     "name": "stderr",
     "output_type": "stream",
     "text": [
      "C:\\Users\\User\\AppData\\Local\\Temp\\ipykernel_17460\\1004701909.py:3: SettingWithCopyWarning: \n",
      "A value is trying to be set on a copy of a slice from a DataFrame\n",
      "\n",
      "See the caveats in the documentation: https://pandas.pydata.org/pandas-docs/stable/user_guide/indexing.html#returning-a-view-versus-a-copy\n",
      "  df['Loan Sanction Amount (USD)'][i]=np.nan\n"
     ]
    }
   ],
   "source": [
    "for i in range(len(df)):\n",
    "    if df['Loan Sanction Amount (USD)'][i]==-999:\n",
    "        df['Loan Sanction Amount (USD)'][i]=np.nan"
   ]
  },
  {
   "cell_type": "code",
   "execution_count": 142,
   "id": "3d055bac",
   "metadata": {},
   "outputs": [],
   "source": [
    "df['Loan Sanction Amount (USD)'].fillna(df['Loan Sanction Amount (USD)'].median(),inplace=True)"
   ]
  },
  {
   "cell_type": "markdown",
   "id": "b13cff57",
   "metadata": {},
   "source": [
    "Now we have replaced all null values with mean,median and mode. We have even removed some columns which showed high correlation of 1 and dropped some unnecessary column. Now our data is almost cleaned"
   ]
  },
  {
   "cell_type": "markdown",
   "id": "cb73cd32",
   "metadata": {},
   "source": [
    "### Encoding Categorical Values"
   ]
  },
  {
   "cell_type": "code",
   "execution_count": 146,
   "id": "0df0be7f",
   "metadata": {},
   "outputs": [
    {
     "data": {
      "text/html": [
       "<div>\n",
       "<style scoped>\n",
       "    .dataframe tbody tr th:only-of-type {\n",
       "        vertical-align: middle;\n",
       "    }\n",
       "\n",
       "    .dataframe tbody tr th {\n",
       "        vertical-align: top;\n",
       "    }\n",
       "\n",
       "    .dataframe thead th {\n",
       "        text-align: right;\n",
       "    }\n",
       "</style>\n",
       "<table border=\"1\" class=\"dataframe\">\n",
       "  <thead>\n",
       "    <tr style=\"text-align: right;\">\n",
       "      <th></th>\n",
       "      <th>Customer ID</th>\n",
       "      <th>Name</th>\n",
       "      <th>Gender</th>\n",
       "      <th>Income Stability</th>\n",
       "      <th>Profession</th>\n",
       "      <th>Type of Employment</th>\n",
       "      <th>Location</th>\n",
       "      <th>Expense Type 1</th>\n",
       "      <th>Expense Type 2</th>\n",
       "      <th>Dependents</th>\n",
       "      <th>Credit Score</th>\n",
       "      <th>Has Active Credit Card</th>\n",
       "      <th>Property Location</th>\n",
       "    </tr>\n",
       "  </thead>\n",
       "  <tbody>\n",
       "    <tr>\n",
       "      <th>0</th>\n",
       "      <td>C-36995</td>\n",
       "      <td>Frederica Shealy</td>\n",
       "      <td>F</td>\n",
       "      <td>Low</td>\n",
       "      <td>Working</td>\n",
       "      <td>Sales staff</td>\n",
       "      <td>Semi-Urban</td>\n",
       "      <td>N</td>\n",
       "      <td>N</td>\n",
       "      <td>None</td>\n",
       "      <td>None</td>\n",
       "      <td>NaN</td>\n",
       "      <td>Rural</td>\n",
       "    </tr>\n",
       "    <tr>\n",
       "      <th>1</th>\n",
       "      <td>C-33999</td>\n",
       "      <td>America Calderone</td>\n",
       "      <td>M</td>\n",
       "      <td>Low</td>\n",
       "      <td>Working</td>\n",
       "      <td>NaN</td>\n",
       "      <td>Semi-Urban</td>\n",
       "      <td>N</td>\n",
       "      <td>Y</td>\n",
       "      <td>None</td>\n",
       "      <td>None</td>\n",
       "      <td>Unpossessed</td>\n",
       "      <td>Rural</td>\n",
       "    </tr>\n",
       "    <tr>\n",
       "      <th>2</th>\n",
       "      <td>C-3770</td>\n",
       "      <td>Rosetta Verne</td>\n",
       "      <td>F</td>\n",
       "      <td>High</td>\n",
       "      <td>Pensioner</td>\n",
       "      <td>NaN</td>\n",
       "      <td>Semi-Urban</td>\n",
       "      <td>N</td>\n",
       "      <td>Y</td>\n",
       "      <td>None</td>\n",
       "      <td>None</td>\n",
       "      <td>Unpossessed</td>\n",
       "      <td>Urban</td>\n",
       "    </tr>\n",
       "    <tr>\n",
       "      <th>3</th>\n",
       "      <td>C-26480</td>\n",
       "      <td>Zoe Chitty</td>\n",
       "      <td>F</td>\n",
       "      <td>High</td>\n",
       "      <td>Pensioner</td>\n",
       "      <td>NaN</td>\n",
       "      <td>Rural</td>\n",
       "      <td>N</td>\n",
       "      <td>Y</td>\n",
       "      <td>None</td>\n",
       "      <td>None</td>\n",
       "      <td>Unpossessed</td>\n",
       "      <td>Semi-Urban</td>\n",
       "    </tr>\n",
       "    <tr>\n",
       "      <th>4</th>\n",
       "      <td>C-23459</td>\n",
       "      <td>Afton Venema</td>\n",
       "      <td>F</td>\n",
       "      <td>Low</td>\n",
       "      <td>Working</td>\n",
       "      <td>High skill tech staff</td>\n",
       "      <td>Semi-Urban</td>\n",
       "      <td>N</td>\n",
       "      <td>Y</td>\n",
       "      <td>None</td>\n",
       "      <td>None</td>\n",
       "      <td>Active</td>\n",
       "      <td>Semi-Urban</td>\n",
       "    </tr>\n",
       "    <tr>\n",
       "      <th>...</th>\n",
       "      <td>...</td>\n",
       "      <td>...</td>\n",
       "      <td>...</td>\n",
       "      <td>...</td>\n",
       "      <td>...</td>\n",
       "      <td>...</td>\n",
       "      <td>...</td>\n",
       "      <td>...</td>\n",
       "      <td>...</td>\n",
       "      <td>...</td>\n",
       "      <td>...</td>\n",
       "      <td>...</td>\n",
       "      <td>...</td>\n",
       "    </tr>\n",
       "    <tr>\n",
       "      <th>29995</th>\n",
       "      <td>C-43723</td>\n",
       "      <td>Angelyn Clevenger</td>\n",
       "      <td>M</td>\n",
       "      <td>Low</td>\n",
       "      <td>Commercial associate</td>\n",
       "      <td>Managers</td>\n",
       "      <td>Urban</td>\n",
       "      <td>Y</td>\n",
       "      <td>Y</td>\n",
       "      <td>None</td>\n",
       "      <td>None</td>\n",
       "      <td>Unpossessed</td>\n",
       "      <td>Urban</td>\n",
       "    </tr>\n",
       "    <tr>\n",
       "      <th>29996</th>\n",
       "      <td>C-32511</td>\n",
       "      <td>Silas Slaugh</td>\n",
       "      <td>M</td>\n",
       "      <td>Low</td>\n",
       "      <td>Working</td>\n",
       "      <td>Laborers</td>\n",
       "      <td>Semi-Urban</td>\n",
       "      <td>N</td>\n",
       "      <td>N</td>\n",
       "      <td>None</td>\n",
       "      <td>None</td>\n",
       "      <td>Inactive</td>\n",
       "      <td>Urban</td>\n",
       "    </tr>\n",
       "    <tr>\n",
       "      <th>29997</th>\n",
       "      <td>C-5192</td>\n",
       "      <td>Carmelo Lone</td>\n",
       "      <td>F</td>\n",
       "      <td>Low</td>\n",
       "      <td>Working</td>\n",
       "      <td>Sales staff</td>\n",
       "      <td>Urban</td>\n",
       "      <td>N</td>\n",
       "      <td>Y</td>\n",
       "      <td>None</td>\n",
       "      <td>None</td>\n",
       "      <td>Active</td>\n",
       "      <td>Rural</td>\n",
       "    </tr>\n",
       "    <tr>\n",
       "      <th>29998</th>\n",
       "      <td>C-12172</td>\n",
       "      <td>Carolann Osby</td>\n",
       "      <td>M</td>\n",
       "      <td>Low</td>\n",
       "      <td>Working</td>\n",
       "      <td>Security staff</td>\n",
       "      <td>Semi-Urban</td>\n",
       "      <td>N</td>\n",
       "      <td>Y</td>\n",
       "      <td>None</td>\n",
       "      <td>None</td>\n",
       "      <td>Unpossessed</td>\n",
       "      <td>Urban</td>\n",
       "    </tr>\n",
       "    <tr>\n",
       "      <th>29999</th>\n",
       "      <td>C-33003</td>\n",
       "      <td>Bridget Garibaldi</td>\n",
       "      <td>F</td>\n",
       "      <td>High</td>\n",
       "      <td>Pensioner</td>\n",
       "      <td>NaN</td>\n",
       "      <td>Rural</td>\n",
       "      <td>N</td>\n",
       "      <td>Y</td>\n",
       "      <td>None</td>\n",
       "      <td>None</td>\n",
       "      <td>Active</td>\n",
       "      <td>Rural</td>\n",
       "    </tr>\n",
       "  </tbody>\n",
       "</table>\n",
       "<p>30000 rows × 13 columns</p>\n",
       "</div>"
      ],
      "text/plain": [
       "      Customer ID               Name Gender Income Stability  \\\n",
       "0         C-36995   Frederica Shealy      F              Low   \n",
       "1         C-33999  America Calderone      M              Low   \n",
       "2          C-3770      Rosetta Verne      F             High   \n",
       "3         C-26480         Zoe Chitty      F             High   \n",
       "4         C-23459       Afton Venema      F              Low   \n",
       "...           ...                ...    ...              ...   \n",
       "29995     C-43723  Angelyn Clevenger      M              Low   \n",
       "29996     C-32511       Silas Slaugh      M              Low   \n",
       "29997      C-5192       Carmelo Lone      F              Low   \n",
       "29998     C-12172      Carolann Osby      M              Low   \n",
       "29999     C-33003  Bridget Garibaldi      F             High   \n",
       "\n",
       "                 Profession     Type of Employment    Location Expense Type 1  \\\n",
       "0                   Working            Sales staff  Semi-Urban              N   \n",
       "1                   Working                    NaN  Semi-Urban              N   \n",
       "2                 Pensioner                    NaN  Semi-Urban              N   \n",
       "3                 Pensioner                    NaN       Rural              N   \n",
       "4                   Working  High skill tech staff  Semi-Urban              N   \n",
       "...                     ...                    ...         ...            ...   \n",
       "29995  Commercial associate               Managers       Urban              Y   \n",
       "29996               Working               Laborers  Semi-Urban              N   \n",
       "29997               Working            Sales staff       Urban              N   \n",
       "29998               Working         Security staff  Semi-Urban              N   \n",
       "29999             Pensioner                    NaN       Rural              N   \n",
       "\n",
       "      Expense Type 2 Dependents Credit Score Has Active Credit Card  \\\n",
       "0                  N       None         None                    NaN   \n",
       "1                  Y       None         None            Unpossessed   \n",
       "2                  Y       None         None            Unpossessed   \n",
       "3                  Y       None         None            Unpossessed   \n",
       "4                  Y       None         None                 Active   \n",
       "...              ...        ...          ...                    ...   \n",
       "29995              Y       None         None            Unpossessed   \n",
       "29996              N       None         None               Inactive   \n",
       "29997              Y       None         None                 Active   \n",
       "29998              Y       None         None            Unpossessed   \n",
       "29999              Y       None         None                 Active   \n",
       "\n",
       "      Property Location  \n",
       "0                 Rural  \n",
       "1                 Rural  \n",
       "2                 Urban  \n",
       "3            Semi-Urban  \n",
       "4            Semi-Urban  \n",
       "...                 ...  \n",
       "29995             Urban  \n",
       "29996             Urban  \n",
       "29997             Rural  \n",
       "29998             Urban  \n",
       "29999             Rural  \n",
       "\n",
       "[30000 rows x 13 columns]"
      ]
     },
     "execution_count": 146,
     "metadata": {},
     "output_type": "execute_result"
    }
   ],
   "source": [
    "df.select_dtypes(include='object')"
   ]
  },
  {
   "cell_type": "markdown",
   "id": "275270f2",
   "metadata": {},
   "source": [
    "Now we are encoding each categorical variables  between 0 and n-1 where n is the number of distinct categories in the variable"
   ]
  },
  {
   "cell_type": "code",
   "execution_count": 147,
   "id": "a711f68a",
   "metadata": {},
   "outputs": [
    {
     "data": {
      "text/html": [
       "<div>\n",
       "<style scoped>\n",
       "    .dataframe tbody tr th:only-of-type {\n",
       "        vertical-align: middle;\n",
       "    }\n",
       "\n",
       "    .dataframe tbody tr th {\n",
       "        vertical-align: top;\n",
       "    }\n",
       "\n",
       "    .dataframe thead th {\n",
       "        text-align: right;\n",
       "    }\n",
       "</style>\n",
       "<table border=\"1\" class=\"dataframe\">\n",
       "  <thead>\n",
       "    <tr style=\"text-align: right;\">\n",
       "      <th></th>\n",
       "      <th>Customer ID</th>\n",
       "      <th>Name</th>\n",
       "      <th>Gender</th>\n",
       "      <th>Age</th>\n",
       "      <th>Income (USD)</th>\n",
       "      <th>Income Stability</th>\n",
       "      <th>Profession</th>\n",
       "      <th>Type of Employment</th>\n",
       "      <th>Location</th>\n",
       "      <th>Loan Amount Request (USD)</th>\n",
       "      <th>...</th>\n",
       "      <th>Credit Score</th>\n",
       "      <th>No. of Defaults</th>\n",
       "      <th>Has Active Credit Card</th>\n",
       "      <th>Property ID</th>\n",
       "      <th>Property Age</th>\n",
       "      <th>Property Type</th>\n",
       "      <th>Property Location</th>\n",
       "      <th>Co-Applicant</th>\n",
       "      <th>Property Price</th>\n",
       "      <th>Loan Sanction Amount (USD)</th>\n",
       "    </tr>\n",
       "  </thead>\n",
       "  <tbody>\n",
       "    <tr>\n",
       "      <th>0</th>\n",
       "      <td>C-36995</td>\n",
       "      <td>Frederica Shealy</td>\n",
       "      <td>0</td>\n",
       "      <td>56</td>\n",
       "      <td>1933.050</td>\n",
       "      <td>1</td>\n",
       "      <td>Working</td>\n",
       "      <td>Sales staff</td>\n",
       "      <td>Semi-Urban</td>\n",
       "      <td>72809.58</td>\n",
       "      <td>...</td>\n",
       "      <td>None</td>\n",
       "      <td>0</td>\n",
       "      <td>3</td>\n",
       "      <td>746</td>\n",
       "      <td>1933.05</td>\n",
       "      <td>4</td>\n",
       "      <td>Rural</td>\n",
       "      <td>1</td>\n",
       "      <td>119933.46</td>\n",
       "      <td>54607.18</td>\n",
       "    </tr>\n",
       "    <tr>\n",
       "      <th>1</th>\n",
       "      <td>C-33999</td>\n",
       "      <td>America Calderone</td>\n",
       "      <td>1</td>\n",
       "      <td>32</td>\n",
       "      <td>4952.910</td>\n",
       "      <td>1</td>\n",
       "      <td>Working</td>\n",
       "      <td>NaN</td>\n",
       "      <td>Semi-Urban</td>\n",
       "      <td>46837.47</td>\n",
       "      <td>...</td>\n",
       "      <td>None</td>\n",
       "      <td>0</td>\n",
       "      <td>2</td>\n",
       "      <td>608</td>\n",
       "      <td>4952.91</td>\n",
       "      <td>2</td>\n",
       "      <td>Rural</td>\n",
       "      <td>1</td>\n",
       "      <td>54791.00</td>\n",
       "      <td>37469.98</td>\n",
       "    </tr>\n",
       "    <tr>\n",
       "      <th>2</th>\n",
       "      <td>C-3770</td>\n",
       "      <td>Rosetta Verne</td>\n",
       "      <td>0</td>\n",
       "      <td>65</td>\n",
       "      <td>988.190</td>\n",
       "      <td>0</td>\n",
       "      <td>Pensioner</td>\n",
       "      <td>NaN</td>\n",
       "      <td>Semi-Urban</td>\n",
       "      <td>45593.04</td>\n",
       "      <td>...</td>\n",
       "      <td>None</td>\n",
       "      <td>0</td>\n",
       "      <td>2</td>\n",
       "      <td>546</td>\n",
       "      <td>988.19</td>\n",
       "      <td>2</td>\n",
       "      <td>Urban</td>\n",
       "      <td>0</td>\n",
       "      <td>72440.58</td>\n",
       "      <td>36474.43</td>\n",
       "    </tr>\n",
       "    <tr>\n",
       "      <th>3</th>\n",
       "      <td>C-26480</td>\n",
       "      <td>Zoe Chitty</td>\n",
       "      <td>0</td>\n",
       "      <td>65</td>\n",
       "      <td>2222.435</td>\n",
       "      <td>0</td>\n",
       "      <td>Pensioner</td>\n",
       "      <td>NaN</td>\n",
       "      <td>Rural</td>\n",
       "      <td>80057.92</td>\n",
       "      <td>...</td>\n",
       "      <td>None</td>\n",
       "      <td>1</td>\n",
       "      <td>2</td>\n",
       "      <td>890</td>\n",
       "      <td>NaN</td>\n",
       "      <td>2</td>\n",
       "      <td>Semi-Urban</td>\n",
       "      <td>1</td>\n",
       "      <td>121441.51</td>\n",
       "      <td>56040.54</td>\n",
       "    </tr>\n",
       "    <tr>\n",
       "      <th>4</th>\n",
       "      <td>C-23459</td>\n",
       "      <td>Afton Venema</td>\n",
       "      <td>0</td>\n",
       "      <td>31</td>\n",
       "      <td>2614.770</td>\n",
       "      <td>1</td>\n",
       "      <td>Working</td>\n",
       "      <td>High skill tech staff</td>\n",
       "      <td>Semi-Urban</td>\n",
       "      <td>113858.89</td>\n",
       "      <td>...</td>\n",
       "      <td>None</td>\n",
       "      <td>1</td>\n",
       "      <td>0</td>\n",
       "      <td>715</td>\n",
       "      <td>2614.77</td>\n",
       "      <td>4</td>\n",
       "      <td>Semi-Urban</td>\n",
       "      <td>1</td>\n",
       "      <td>208567.91</td>\n",
       "      <td>74008.28</td>\n",
       "    </tr>\n",
       "  </tbody>\n",
       "</table>\n",
       "<p>5 rows × 24 columns</p>\n",
       "</div>"
      ],
      "text/plain": [
       "  Customer ID               Name  Gender  Age  Income (USD)  Income Stability  \\\n",
       "0     C-36995   Frederica Shealy       0   56      1933.050                 1   \n",
       "1     C-33999  America Calderone       1   32      4952.910                 1   \n",
       "2      C-3770      Rosetta Verne       0   65       988.190                 0   \n",
       "3     C-26480         Zoe Chitty       0   65      2222.435                 0   \n",
       "4     C-23459       Afton Venema       0   31      2614.770                 1   \n",
       "\n",
       "  Profession     Type of Employment    Location  Loan Amount Request (USD)  \\\n",
       "0    Working            Sales staff  Semi-Urban                   72809.58   \n",
       "1    Working                    NaN  Semi-Urban                   46837.47   \n",
       "2  Pensioner                    NaN  Semi-Urban                   45593.04   \n",
       "3  Pensioner                    NaN       Rural                   80057.92   \n",
       "4    Working  High skill tech staff  Semi-Urban                  113858.89   \n",
       "\n",
       "   ...  Credit Score  No. of Defaults  Has Active Credit Card Property ID  \\\n",
       "0  ...          None                0                       3         746   \n",
       "1  ...          None                0                       2         608   \n",
       "2  ...          None                0                       2         546   \n",
       "3  ...          None                1                       2         890   \n",
       "4  ...          None                1                       0         715   \n",
       "\n",
       "  Property Age  Property Type  Property Location  Co-Applicant  \\\n",
       "0      1933.05              4              Rural             1   \n",
       "1      4952.91              2              Rural             1   \n",
       "2       988.19              2              Urban             0   \n",
       "3          NaN              2         Semi-Urban             1   \n",
       "4      2614.77              4         Semi-Urban             1   \n",
       "\n",
       "   Property Price  Loan Sanction Amount (USD)  \n",
       "0       119933.46                    54607.18  \n",
       "1        54791.00                    37469.98  \n",
       "2        72440.58                    36474.43  \n",
       "3       121441.51                    56040.54  \n",
       "4       208567.91                    74008.28  \n",
       "\n",
       "[5 rows x 24 columns]"
      ]
     },
     "execution_count": 147,
     "metadata": {},
     "output_type": "execute_result"
    }
   ],
   "source": [
    "from sklearn.preprocessing import LabelEncoder\n",
    "lblencode=LabelEncoder()\n",
    "\n",
    "df['Gender']=lblencode.fit_transform(df['Gender'])\n",
    "df['Expense Type 1']=lblencode.fit_transform(df['Expense Type 1'])\n",
    "df['Expense Type 2']=lblencode.fit_transform(df['Expense Type 2'])\n",
    "df['Income Stability']=lblencode.fit_transform(df['Income Stability'])\n",
    "df['Has Active Credit Card']=lblencode.fit_transform(df['Has Active Credit Card'])\n",
    "\n",
    "df.head(5)"
   ]
  },
  {
   "cell_type": "code",
   "execution_count": 148,
   "id": "8cffa86e",
   "metadata": {},
   "outputs": [
    {
     "data": {
      "text/plain": [
       "Semi-Urban    21563\n",
       "Rural          5338\n",
       "Urban          3099\n",
       "Name: Location, dtype: int64"
      ]
     },
     "execution_count": 148,
     "metadata": {},
     "output_type": "execute_result"
    }
   ],
   "source": [
    "df['Location'].value_counts()"
   ]
  },
  {
   "cell_type": "code",
   "execution_count": null,
   "id": "c33cc975",
   "metadata": {},
   "outputs": [],
   "source": [
    "from sklearn.preprocessing import OrdinalEncoder\n",
    "orderencoding=OrdinalEncoder(categories=[['Rural','Semi-Urban','Urban']])\n",
    "df['Location']=orderencoding.fit_transform(df['Location'].values.reshape(-1,1))\n"
   ]
  },
  {
   "cell_type": "markdown",
   "id": "8ac13a7b",
   "metadata": {},
   "source": [
    "## Scaling the data"
   ]
  },
  {
   "cell_type": "code",
   "execution_count": null,
   "id": "e0f5673f",
   "metadata": {},
   "outputs": [],
   "source": [
    "df_num =df.select_dtypes(include=np.number)"
   ]
  },
  {
   "cell_type": "code",
   "execution_count": null,
   "id": "8047dce5",
   "metadata": {},
   "outputs": [],
   "source": [
    "# import StandardScaler\n",
    "from sklearn.preprocessing import StandardScaler\n",
    "\n",
    "# instantiate the standardscaler\n",
    "standard_scale = StandardScaler()\n",
    "\n",
    "# fit the StandardScaler\n",
    "df_num = standard_scale.fit_transform(df_num)\n",
    "df_num=pd.DataFrame(df_num)\n",
    "df_num"
   ]
  },
  {
   "cell_type": "code",
   "execution_count": null,
   "id": "23122287",
   "metadata": {},
   "outputs": [],
   "source": [
    "df_num.columns="
   ]
  },
  {
   "cell_type": "code",
   "execution_count": null,
   "id": "54b23a65",
   "metadata": {},
   "outputs": [],
   "source": []
  }
 ],
 "metadata": {
  "kernelspec": {
   "display_name": "Python 3 (ipykernel)",
   "language": "python",
   "name": "python3"
  },
  "language_info": {
   "codemirror_mode": {
    "name": "ipython",
    "version": 3
   },
   "file_extension": ".py",
   "mimetype": "text/x-python",
   "name": "python",
   "nbconvert_exporter": "python",
   "pygments_lexer": "ipython3",
   "version": "3.9.13"
  }
 },
 "nbformat": 4,
 "nbformat_minor": 5
}
